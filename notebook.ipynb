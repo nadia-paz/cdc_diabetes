{
 "cells": [
  {
   "cell_type": "markdown",
   "metadata": {},
   "source": [
    "<h1 style=\"color:#b01e3a;\">Diabetes Risk Prediction</h2>"
   ]
  },
  {
   "cell_type": "markdown",
   "metadata": {},
   "source": [
    "Prediction of diabetis risk based on the healthcare indicators. Machine learning project."
   ]
  },
  {
   "cell_type": "markdown",
   "metadata": {},
   "source": [
    "__Table of Contents__\n",
    "\n",
    "1. [About the project](#about)\n",
    "2. [Load data](https://github.com/nadia-paz/cdc_diabetes/blob/main/notebook.ipynb#loaddata)\n",
    "3. [Exploratory Data Analysis](#eda)\n",
    "4. Creating and Tuning ML models\n",
    "    - Logistic Regression\n",
    "    - Decision Tree\n",
    "    - Random Forest\n",
    "    - XGBoost\n",
    "5. Training the Final model"
   ]
  },
  {
   "cell_type": "markdown",
   "metadata": {},
   "source": [
    "<a name=\"about\"></a> \n",
    "### About the project"
   ]
  },
  {
   "cell_type": "markdown",
   "metadata": {},
   "source": [
    "> The project involves working with BRFSS data from CDC. The Behavioral Risk Factor Surveillance System (BRFSS) is a health-related telephone survey that collects data about US residents' health-related risk behaviors, chronic health conditions, and use of preventive services. If you want to learn more about the data and its source, please refer to the `Readme` file of the project. <br>\n",
    "\n",
    "- The main objective of the project is to develop a __machine-learning model__ that can *predict the risk of developing diabetes based on health indicators*. \n",
    "- As a secondary objective, this project aims to make a positive impact on people's lives by using the power of machine learning to predict the risks of developing diabetes. By analyzing health indicators and risk behaviors, I hope to create a model that can help individuals take proactive steps toward their health and well-being.\n"
   ]
  },
  {
   "cell_type": "code",
   "execution_count": 18,
   "metadata": {},
   "outputs": [],
   "source": [
    "# imports\n",
    "import numpy as np \n",
    "import pandas as pd\n",
    "import matplotlib.pyplot as plt \n",
    "import seaborn as sns\n",
    "%matplotlib inline\n",
    "%config InlineBackend.figure_format='retina'\n",
    "\n",
    "from scipy import stats \n",
    "from sklearn.metrics import mutual_info_score\n",
    "from sklearn.preprocessing import FunctionTransformer\n",
    "import xgboost as xgb\n",
    "from sklearn.tree import DecisionTreeClassifier, export_text, export_graphviz\n",
    "from sklearn.metrics import roc_auc_score, accuracy_score, precision_score, recall_score, f1_score, confusion_matrix, classification_report\n",
    "from sklearn.ensemble import RandomForestClassifier\n",
    "from sklearn.linear_model import LogisticRegression\n",
    "from sklearn.model_selection import KFold\n",
    "\n",
    "import pickle\n",
    "\n",
    "# load data preparation module\n",
    "import src.data_prep as dp\n",
    "import src.explore as ex\n",
    "import src.model as md\n",
    "\n",
    "pd.set_option('display.float_format', lambda x: '%.3f' % x)"
   ]
  },
  {
   "cell_type": "code",
   "execution_count": 3,
   "metadata": {},
   "outputs": [],
   "source": [
    "from importlib import reload"
   ]
  },
  {
   "cell_type": "markdown",
   "metadata": {},
   "source": [
    "<a class=\"anchor\" id=\"loaddata\"></a>\n",
    "### Load data\n",
    "\n",
    "The data preparation code is located in the `data_prep.py` file in the `src` directory. It loads data, drops duplicates, converts data types, and splits data into `train`, `validation`, and `test` sets."
   ]
  },
  {
   "cell_type": "code",
   "execution_count": 4,
   "metadata": {},
   "outputs": [
    {
     "data": {
      "text/html": [
       "<div>\n",
       "<style scoped>\n",
       "    .dataframe tbody tr th:only-of-type {\n",
       "        vertical-align: middle;\n",
       "    }\n",
       "\n",
       "    .dataframe tbody tr th {\n",
       "        vertical-align: top;\n",
       "    }\n",
       "\n",
       "    .dataframe thead th {\n",
       "        text-align: right;\n",
       "    }\n",
       "</style>\n",
       "<table border=\"1\" class=\"dataframe\">\n",
       "  <thead>\n",
       "    <tr style=\"text-align: right;\">\n",
       "      <th></th>\n",
       "      <th>HighBP</th>\n",
       "      <th>HighChol</th>\n",
       "      <th>CholCheck</th>\n",
       "      <th>BMI</th>\n",
       "      <th>Smoker</th>\n",
       "      <th>Stroke</th>\n",
       "      <th>HeartDiseaseorAttack</th>\n",
       "      <th>PhysActivity</th>\n",
       "      <th>Fruits</th>\n",
       "      <th>Veggies</th>\n",
       "      <th>...</th>\n",
       "      <th>NoDocbcCost</th>\n",
       "      <th>GenHlth</th>\n",
       "      <th>MentHlth</th>\n",
       "      <th>PhysHlth</th>\n",
       "      <th>DiffWalk</th>\n",
       "      <th>Sex</th>\n",
       "      <th>Age</th>\n",
       "      <th>Education</th>\n",
       "      <th>Income</th>\n",
       "      <th>Diabetes_binary</th>\n",
       "    </tr>\n",
       "  </thead>\n",
       "  <tbody>\n",
       "    <tr>\n",
       "      <th>0</th>\n",
       "      <td>1</td>\n",
       "      <td>1</td>\n",
       "      <td>1</td>\n",
       "      <td>40</td>\n",
       "      <td>1</td>\n",
       "      <td>0</td>\n",
       "      <td>0</td>\n",
       "      <td>0</td>\n",
       "      <td>0</td>\n",
       "      <td>1</td>\n",
       "      <td>...</td>\n",
       "      <td>0</td>\n",
       "      <td>5</td>\n",
       "      <td>18</td>\n",
       "      <td>15</td>\n",
       "      <td>1</td>\n",
       "      <td>0</td>\n",
       "      <td>9</td>\n",
       "      <td>4</td>\n",
       "      <td>3</td>\n",
       "      <td>0</td>\n",
       "    </tr>\n",
       "    <tr>\n",
       "      <th>1</th>\n",
       "      <td>0</td>\n",
       "      <td>0</td>\n",
       "      <td>0</td>\n",
       "      <td>25</td>\n",
       "      <td>1</td>\n",
       "      <td>0</td>\n",
       "      <td>0</td>\n",
       "      <td>1</td>\n",
       "      <td>0</td>\n",
       "      <td>0</td>\n",
       "      <td>...</td>\n",
       "      <td>1</td>\n",
       "      <td>3</td>\n",
       "      <td>0</td>\n",
       "      <td>0</td>\n",
       "      <td>0</td>\n",
       "      <td>0</td>\n",
       "      <td>7</td>\n",
       "      <td>6</td>\n",
       "      <td>1</td>\n",
       "      <td>0</td>\n",
       "    </tr>\n",
       "    <tr>\n",
       "      <th>2</th>\n",
       "      <td>1</td>\n",
       "      <td>1</td>\n",
       "      <td>1</td>\n",
       "      <td>28</td>\n",
       "      <td>0</td>\n",
       "      <td>0</td>\n",
       "      <td>0</td>\n",
       "      <td>0</td>\n",
       "      <td>1</td>\n",
       "      <td>0</td>\n",
       "      <td>...</td>\n",
       "      <td>1</td>\n",
       "      <td>5</td>\n",
       "      <td>30</td>\n",
       "      <td>30</td>\n",
       "      <td>1</td>\n",
       "      <td>0</td>\n",
       "      <td>9</td>\n",
       "      <td>4</td>\n",
       "      <td>8</td>\n",
       "      <td>0</td>\n",
       "    </tr>\n",
       "    <tr>\n",
       "      <th>3</th>\n",
       "      <td>1</td>\n",
       "      <td>0</td>\n",
       "      <td>1</td>\n",
       "      <td>27</td>\n",
       "      <td>0</td>\n",
       "      <td>0</td>\n",
       "      <td>0</td>\n",
       "      <td>1</td>\n",
       "      <td>1</td>\n",
       "      <td>1</td>\n",
       "      <td>...</td>\n",
       "      <td>0</td>\n",
       "      <td>2</td>\n",
       "      <td>0</td>\n",
       "      <td>0</td>\n",
       "      <td>0</td>\n",
       "      <td>0</td>\n",
       "      <td>11</td>\n",
       "      <td>3</td>\n",
       "      <td>6</td>\n",
       "      <td>0</td>\n",
       "    </tr>\n",
       "    <tr>\n",
       "      <th>4</th>\n",
       "      <td>1</td>\n",
       "      <td>1</td>\n",
       "      <td>1</td>\n",
       "      <td>24</td>\n",
       "      <td>0</td>\n",
       "      <td>0</td>\n",
       "      <td>0</td>\n",
       "      <td>1</td>\n",
       "      <td>1</td>\n",
       "      <td>1</td>\n",
       "      <td>...</td>\n",
       "      <td>0</td>\n",
       "      <td>2</td>\n",
       "      <td>3</td>\n",
       "      <td>0</td>\n",
       "      <td>0</td>\n",
       "      <td>0</td>\n",
       "      <td>11</td>\n",
       "      <td>5</td>\n",
       "      <td>4</td>\n",
       "      <td>0</td>\n",
       "    </tr>\n",
       "  </tbody>\n",
       "</table>\n",
       "<p>5 rows × 22 columns</p>\n",
       "</div>"
      ],
      "text/plain": [
       "   HighBP  HighChol  CholCheck  BMI  Smoker  Stroke  HeartDiseaseorAttack  \\\n",
       "0       1         1          1   40       1       0                     0   \n",
       "1       0         0          0   25       1       0                     0   \n",
       "2       1         1          1   28       0       0                     0   \n",
       "3       1         0          1   27       0       0                     0   \n",
       "4       1         1          1   24       0       0                     0   \n",
       "\n",
       "   PhysActivity  Fruits  Veggies  ...  NoDocbcCost  GenHlth  MentHlth  \\\n",
       "0             0       0        1  ...            0        5        18   \n",
       "1             1       0        0  ...            1        3         0   \n",
       "2             0       1        0  ...            1        5        30   \n",
       "3             1       1        1  ...            0        2         0   \n",
       "4             1       1        1  ...            0        2         3   \n",
       "\n",
       "   PhysHlth  DiffWalk  Sex  Age  Education  Income  Diabetes_binary  \n",
       "0        15         1    0    9          4       3                0  \n",
       "1         0         0    0    7          6       1                0  \n",
       "2        30         1    0    9          4       8                0  \n",
       "3         0         0    0   11          3       6                0  \n",
       "4         0         0    0   11          5       4                0  \n",
       "\n",
       "[5 rows x 22 columns]"
      ]
     },
     "execution_count": 4,
     "metadata": {},
     "output_type": "execute_result"
    }
   ],
   "source": [
    "# load the data\n",
    "df = dp.acquire()\n",
    "df.head()"
   ]
  },
  {
   "cell_type": "markdown",
   "metadata": {},
   "source": [
    "Upon initial inspection, the data appeared to mostly consist of digital values and was prepared for machine learning. However, it was not user-friendly for data exploration. Based on the data dictionary provided in the `Readme` file I replaced numerical values in categorical columns with human-readable information. This makes the process of data exploration easier. Those changes only impact `df_explore` data frame, which excludes any data from the `test` data set, and leaves the original data untouched as well."
   ]
  },
  {
   "cell_type": "markdown",
   "metadata": {},
   "source": [
    "<div class=\"alert alert-success\">\n",
    "\n",
    "<a name=\"eda\"></a> \n",
    "### Exploratory Data Analysis"
   ]
  },
  {
   "cell_type": "code",
   "execution_count": 4,
   "metadata": {},
   "outputs": [
    {
     "data": {
      "text/html": [
       "<div>\n",
       "<style scoped>\n",
       "    .dataframe tbody tr th:only-of-type {\n",
       "        vertical-align: middle;\n",
       "    }\n",
       "\n",
       "    .dataframe tbody tr th {\n",
       "        vertical-align: top;\n",
       "    }\n",
       "\n",
       "    .dataframe thead th {\n",
       "        text-align: right;\n",
       "    }\n",
       "</style>\n",
       "<table border=\"1\" class=\"dataframe\">\n",
       "  <thead>\n",
       "    <tr style=\"text-align: right;\">\n",
       "      <th></th>\n",
       "      <th>0</th>\n",
       "      <th>1</th>\n",
       "      <th>2</th>\n",
       "    </tr>\n",
       "  </thead>\n",
       "  <tbody>\n",
       "    <tr>\n",
       "      <th>HighBP</th>\n",
       "      <td>Normal Blood Pressure</td>\n",
       "      <td>Normal Blood Pressure</td>\n",
       "      <td>Normal Blood Pressure</td>\n",
       "    </tr>\n",
       "    <tr>\n",
       "      <th>HighChol</th>\n",
       "      <td>High Cholesterol</td>\n",
       "      <td>Normal Cholesterol</td>\n",
       "      <td>High Cholesterol</td>\n",
       "    </tr>\n",
       "    <tr>\n",
       "      <th>CholCheck</th>\n",
       "      <td>Had Cholesterol Check</td>\n",
       "      <td>Had Cholesterol Check</td>\n",
       "      <td>Had Cholesterol Check</td>\n",
       "    </tr>\n",
       "    <tr>\n",
       "      <th>BMI</th>\n",
       "      <td>42</td>\n",
       "      <td>27</td>\n",
       "      <td>35</td>\n",
       "    </tr>\n",
       "    <tr>\n",
       "      <th>Smoker</th>\n",
       "      <td>Not a Smoker</td>\n",
       "      <td>Not a Smoker</td>\n",
       "      <td>Smoker</td>\n",
       "    </tr>\n",
       "    <tr>\n",
       "      <th>Stroke</th>\n",
       "      <td>Didn't Have a Stroke</td>\n",
       "      <td>Didn't Have a Stroke</td>\n",
       "      <td>Didn't Have a Stroke</td>\n",
       "    </tr>\n",
       "    <tr>\n",
       "      <th>HeartDiseaseorAttack</th>\n",
       "      <td>No Heart Disease</td>\n",
       "      <td>No Heart Disease</td>\n",
       "      <td>No Heart Disease</td>\n",
       "    </tr>\n",
       "    <tr>\n",
       "      <th>PhysActivity</th>\n",
       "      <td>No Physical Activity - 30 days</td>\n",
       "      <td>No Physical Activity - 30 days</td>\n",
       "      <td>Active in the past 30 days</td>\n",
       "    </tr>\n",
       "    <tr>\n",
       "      <th>Fruits</th>\n",
       "      <td>Eats at least 1 friut a day</td>\n",
       "      <td>Eats at least 1 friut a day</td>\n",
       "      <td>Eats at least 1 friut a day</td>\n",
       "    </tr>\n",
       "    <tr>\n",
       "      <th>Veggies</th>\n",
       "      <td>Eats at least 1 vegetable a day</td>\n",
       "      <td>Eats at least 1 vegetable a day</td>\n",
       "      <td>Eats at least 1 vegetable a day</td>\n",
       "    </tr>\n",
       "    <tr>\n",
       "      <th>HvyAlcoholConsump</th>\n",
       "      <td>Normal alcohol consumption</td>\n",
       "      <td>Normal alcohol consumption</td>\n",
       "      <td>Normal alcohol consumption</td>\n",
       "    </tr>\n",
       "    <tr>\n",
       "      <th>AnyHealthcare</th>\n",
       "      <td>Medical Insurance</td>\n",
       "      <td>Medical Insurance</td>\n",
       "      <td>Medical Insurance</td>\n",
       "    </tr>\n",
       "    <tr>\n",
       "      <th>NoDocbcCost</th>\n",
       "      <td>Visit doctor when sick</td>\n",
       "      <td>Visit doctor when sick</td>\n",
       "      <td>No doctor visit becasue of cost</td>\n",
       "    </tr>\n",
       "    <tr>\n",
       "      <th>GenHlth</th>\n",
       "      <td>2</td>\n",
       "      <td>3</td>\n",
       "      <td>4</td>\n",
       "    </tr>\n",
       "    <tr>\n",
       "      <th>MentHlth</th>\n",
       "      <td>0</td>\n",
       "      <td>0</td>\n",
       "      <td>30</td>\n",
       "    </tr>\n",
       "    <tr>\n",
       "      <th>PhysHlth</th>\n",
       "      <td>0</td>\n",
       "      <td>0</td>\n",
       "      <td>30</td>\n",
       "    </tr>\n",
       "    <tr>\n",
       "      <th>DiffWalk</th>\n",
       "      <td>Normal walking</td>\n",
       "      <td>Normal walking</td>\n",
       "      <td>Normal walking</td>\n",
       "    </tr>\n",
       "    <tr>\n",
       "      <th>Sex</th>\n",
       "      <td>Female</td>\n",
       "      <td>Male</td>\n",
       "      <td>Female</td>\n",
       "    </tr>\n",
       "    <tr>\n",
       "      <th>Age</th>\n",
       "      <td>55 - 59</td>\n",
       "      <td>55 - 59</td>\n",
       "      <td>50 - 54</td>\n",
       "    </tr>\n",
       "    <tr>\n",
       "      <th>Education</th>\n",
       "      <td>college degree</td>\n",
       "      <td>high school</td>\n",
       "      <td>some college</td>\n",
       "    </tr>\n",
       "    <tr>\n",
       "      <th>Income</th>\n",
       "      <td>more than $85K</td>\n",
       "      <td>$15K - $20K</td>\n",
       "      <td>less then $10K</td>\n",
       "    </tr>\n",
       "    <tr>\n",
       "      <th>Diabetes_binary</th>\n",
       "      <td>0</td>\n",
       "      <td>0</td>\n",
       "      <td>0</td>\n",
       "    </tr>\n",
       "    <tr>\n",
       "      <th>Diabetes</th>\n",
       "      <td>No Diabetes</td>\n",
       "      <td>No Diabetes</td>\n",
       "      <td>No Diabetes</td>\n",
       "    </tr>\n",
       "  </tbody>\n",
       "</table>\n",
       "</div>"
      ],
      "text/plain": [
       "                                                    0  \\\n",
       "HighBP                          Normal Blood Pressure   \n",
       "HighChol                             High Cholesterol   \n",
       "CholCheck                       Had Cholesterol Check   \n",
       "BMI                                                42   \n",
       "Smoker                                   Not a Smoker   \n",
       "Stroke                           Didn't Have a Stroke   \n",
       "HeartDiseaseorAttack                 No Heart Disease   \n",
       "PhysActivity           No Physical Activity - 30 days   \n",
       "Fruits                    Eats at least 1 friut a day   \n",
       "Veggies               Eats at least 1 vegetable a day   \n",
       "HvyAlcoholConsump          Normal alcohol consumption   \n",
       "AnyHealthcare                       Medical Insurance   \n",
       "NoDocbcCost                    Visit doctor when sick   \n",
       "GenHlth                                             2   \n",
       "MentHlth                                            0   \n",
       "PhysHlth                                            0   \n",
       "DiffWalk                               Normal walking   \n",
       "Sex                                            Female   \n",
       "Age                                           55 - 59   \n",
       "Education                              college degree   \n",
       "Income                                 more than $85K   \n",
       "Diabetes_binary                                     0   \n",
       "Diabetes                                  No Diabetes   \n",
       "\n",
       "                                                    1  \\\n",
       "HighBP                          Normal Blood Pressure   \n",
       "HighChol                           Normal Cholesterol   \n",
       "CholCheck                       Had Cholesterol Check   \n",
       "BMI                                                27   \n",
       "Smoker                                   Not a Smoker   \n",
       "Stroke                           Didn't Have a Stroke   \n",
       "HeartDiseaseorAttack                 No Heart Disease   \n",
       "PhysActivity           No Physical Activity - 30 days   \n",
       "Fruits                    Eats at least 1 friut a day   \n",
       "Veggies               Eats at least 1 vegetable a day   \n",
       "HvyAlcoholConsump          Normal alcohol consumption   \n",
       "AnyHealthcare                       Medical Insurance   \n",
       "NoDocbcCost                    Visit doctor when sick   \n",
       "GenHlth                                             3   \n",
       "MentHlth                                            0   \n",
       "PhysHlth                                            0   \n",
       "DiffWalk                               Normal walking   \n",
       "Sex                                              Male   \n",
       "Age                                           55 - 59   \n",
       "Education                                 high school   \n",
       "Income                                    $15K - $20K   \n",
       "Diabetes_binary                                     0   \n",
       "Diabetes                                  No Diabetes   \n",
       "\n",
       "                                                    2  \n",
       "HighBP                          Normal Blood Pressure  \n",
       "HighChol                             High Cholesterol  \n",
       "CholCheck                       Had Cholesterol Check  \n",
       "BMI                                                35  \n",
       "Smoker                                         Smoker  \n",
       "Stroke                           Didn't Have a Stroke  \n",
       "HeartDiseaseorAttack                 No Heart Disease  \n",
       "PhysActivity               Active in the past 30 days  \n",
       "Fruits                    Eats at least 1 friut a day  \n",
       "Veggies               Eats at least 1 vegetable a day  \n",
       "HvyAlcoholConsump          Normal alcohol consumption  \n",
       "AnyHealthcare                       Medical Insurance  \n",
       "NoDocbcCost           No doctor visit becasue of cost  \n",
       "GenHlth                                             4  \n",
       "MentHlth                                           30  \n",
       "PhysHlth                                           30  \n",
       "DiffWalk                               Normal walking  \n",
       "Sex                                            Female  \n",
       "Age                                           50 - 54  \n",
       "Education                                some college  \n",
       "Income                                 less then $10K  \n",
       "Diabetes_binary                                     0  \n",
       "Diabetes                                  No Diabetes  "
      ]
     },
     "execution_count": 4,
     "metadata": {},
     "output_type": "execute_result"
    }
   ],
   "source": [
    "df_explore = dp.split_data(df, explore=True)\n",
    "df_explore.head(3).T"
   ]
  },
  {
   "cell_type": "code",
   "execution_count": 5,
   "metadata": {},
   "outputs": [
    {
     "name": "stdout",
     "output_type": "stream",
     "text": [
      "<class 'pandas.core.frame.DataFrame'>\n",
      "RangeIndex: 183579 entries, 0 to 183578\n",
      "Data columns (total 23 columns):\n",
      " #   Column                Non-Null Count   Dtype \n",
      "---  ------                --------------   ----- \n",
      " 0   HighBP                183579 non-null  object\n",
      " 1   HighChol              183579 non-null  object\n",
      " 2   CholCheck             183579 non-null  object\n",
      " 3   BMI                   183579 non-null  int64 \n",
      " 4   Smoker                183579 non-null  object\n",
      " 5   Stroke                183579 non-null  object\n",
      " 6   HeartDiseaseorAttack  183579 non-null  object\n",
      " 7   PhysActivity          183579 non-null  object\n",
      " 8   Fruits                183579 non-null  object\n",
      " 9   Veggies               183579 non-null  object\n",
      " 10  HvyAlcoholConsump     183579 non-null  object\n",
      " 11  AnyHealthcare         183579 non-null  object\n",
      " 12  NoDocbcCost           183579 non-null  object\n",
      " 13  GenHlth               183579 non-null  int64 \n",
      " 14  MentHlth              183579 non-null  int64 \n",
      " 15  PhysHlth              183579 non-null  int64 \n",
      " 16  DiffWalk              183579 non-null  object\n",
      " 17  Sex                   183579 non-null  object\n",
      " 18  Age                   183579 non-null  object\n",
      " 19  Education             183579 non-null  object\n",
      " 20  Income                183579 non-null  object\n",
      " 21  Diabetes_binary       183579 non-null  int64 \n",
      " 22  Diabetes              183579 non-null  object\n",
      "dtypes: int64(5), object(18)\n",
      "memory usage: 32.2+ MB\n"
     ]
    }
   ],
   "source": [
    "df_explore.info()"
   ]
  },
  {
   "cell_type": "markdown",
   "metadata": {},
   "source": [
    "#### Target variable\n",
    "\n",
    "Let's have a look on our target variable - Diabetes. What percentage of people represented in our data have diabetes?"
   ]
  },
  {
   "cell_type": "code",
   "execution_count": 6,
   "metadata": {},
   "outputs": [
    {
     "data": {
      "text/plain": [
       "Diabetes\n",
       "No Diabetes   0.847\n",
       "Diabetes      0.153\n",
       "Name: proportion, dtype: float64"
      ]
     },
     "execution_count": 6,
     "metadata": {},
     "output_type": "execute_result"
    }
   ],
   "source": [
    "df_explore.Diabetes.value_counts(normalize=True)"
   ]
  },
  {
   "cell_type": "markdown",
   "metadata": {},
   "source": [
    "- 84.7% of respondents don't have Diabetes\n",
    "- 15.3% of respondets have Diabetes condition."
   ]
  },
  {
   "cell_type": "code",
   "execution_count": 13,
   "metadata": {},
   "outputs": [
    {
     "data": {
      "image/png": "[encoded data removed]",
      "text/plain": [
       "<Figure size 400x400 with 1 Axes>"
      ]
     },
     "metadata": {
      "image/png": {
       "height": 349,
       "width": 410
      }
     },
     "output_type": "display_data"
    }
   ],
   "source": [
    "# visualize \n",
    "ex.diabetes_piechart(df_explore, 'Diabetes')"
   ]
  },
  {
   "cell_type": "markdown",
   "metadata": {},
   "source": [
    "#### BMI (body mass index)\n",
    "\n",
    "The next step is to find out whether there is a difference in BMI between healthy individuals and those with diabetes. We know that overweight people are more susceptible to type II diabetes. Therefore, we need to analyze our data to determine if our findings align with this trend. A normal BMI range is considered to be between 18.5 and 24.9. Anything below 18.5 is classified as underweight, and anything above 24.9 is considered overweight. To facilitate our exploration, let's begin by splitting our data."
   ]
  },
  {
   "cell_type": "code",
   "execution_count": 7,
   "metadata": {},
   "outputs": [
    {
     "data": {
      "text/plain": [
       "mean   28.691\n",
       "std     6.807\n",
       "min    12.000\n",
       "25%    24.000\n",
       "50%    27.000\n",
       "75%    32.000\n",
       "max    98.000\n",
       "Name: BMI, dtype: float64"
      ]
     },
     "execution_count": 7,
     "metadata": {},
     "output_type": "execute_result"
    }
   ],
   "source": [
    "# get descriptive statistics about BMI\n",
    "df_explore.BMI.describe()[1:]"
   ]
  },
  {
   "cell_type": "code",
   "execution_count": 8,
   "metadata": {},
   "outputs": [],
   "source": [
    "# create 2 data frames for ppl with diabetis and without\n",
    "healthy = df_explore.query('Diabetes_binary == 0')\n",
    "diabetes = df_explore.query('Diabetes_binary == 1')"
   ]
  },
  {
   "cell_type": "code",
   "execution_count": 9,
   "metadata": {},
   "outputs": [
    {
     "data": {
      "text/plain": [
       "(array(['No Diabetes'], dtype=object), array(['Diabetes'], dtype=object))"
      ]
     },
     "execution_count": 9,
     "metadata": {},
     "output_type": "execute_result"
    }
   ],
   "source": [
    "# check if the split is correct\n",
    "healthy.Diabetes.unique(), diabetes.Diabetes.unique()"
   ]
  },
  {
   "cell_type": "code",
   "execution_count": 10,
   "metadata": {},
   "outputs": [
    {
     "data": {
      "text/plain": [
       "(12, 28.092849334447944, 98)"
      ]
     },
     "execution_count": 10,
     "metadata": {},
     "output_type": "execute_result"
    }
   ],
   "source": [
    "# min, average and max BMI for healthy ppl\n",
    "healthy.BMI.min(), healthy.BMI.mean(), healthy.BMI.max()"
   ]
  },
  {
   "cell_type": "code",
   "execution_count": 11,
   "metadata": {},
   "outputs": [
    {
     "data": {
      "text/plain": [
       "(13, 32.00181695108483, 98)"
      ]
     },
     "execution_count": 11,
     "metadata": {},
     "output_type": "execute_result"
    }
   ],
   "source": [
    "# min, average and max BMI for ppl with diabetes\n",
    "diabetes.BMI.min(), diabetes.BMI.mean(), diabetes.BMI.max()"
   ]
  },
  {
   "cell_type": "markdown",
   "metadata": {},
   "source": [
    "Although the min and max are almost the same, the average BMI is almost 4 points higher for people with diabetes."
   ]
  },
  {
   "cell_type": "code",
   "execution_count": 12,
   "metadata": {},
   "outputs": [
    {
     "data": {
      "image/png": "[encoded data removed]",
      "text/plain": [
       "<Figure size 1200x500 with 2 Axes>"
      ]
     },
     "metadata": {
      "image/png": {
       "height": 450,
       "width": 1007
      }
     },
     "output_type": "display_data"
    }
   ],
   "source": [
    "# visualize BMI distribution among people with and without diabetes\n",
    "ex.bmi_distribution(healthy, diabetes)"
   ]
  },
  {
   "cell_type": "markdown",
   "metadata": {},
   "source": [
    "The visual confirm that people with diabetes tend to have higher BMIs."
   ]
  },
  {
   "cell_type": "code",
   "execution_count": 13,
   "metadata": {},
   "outputs": [],
   "source": [
    "# create data frames for underweigh, overweight and normal weight\n",
    "under = df_explore.query('BMI <= 18')\n",
    "normal = df_explore.query('BMI > 18 and BMI < 25')\n",
    "over = df_explore.query('BMI >= 25')"
   ]
  },
  {
   "cell_type": "code",
   "execution_count": 21,
   "metadata": {},
   "outputs": [
    {
     "data": {
      "image/png": "[encoded data removed]",
      "text/plain": [
       "<Figure size 1200x400 with 3 Axes>"
      ]
     },
     "metadata": {
      "image/png": {
       "height": 314,
       "width": 1044
      }
     },
     "output_type": "display_data"
    }
   ],
   "source": [
    "ex.bmi_piechart(under, normal, over)"
   ]
  },
  {
   "cell_type": "markdown",
   "metadata": {},
   "source": [
    "#### Mental health and physical health\n",
    "\n",
    "Both columns `MentHlth` (mental health) and `PhysHlth` (physical health) contain values ranging from 1 to 31 that represent the number of days with poor menthal or physical health. Let's compare those numbers by plotting relative distributions for two groups: diabetes and healthy. "
   ]
  },
  {
   "cell_type": "code",
   "execution_count": 14,
   "metadata": {},
   "outputs": [
    {
     "data": {
      "image/png": "[encoded data removed]",
      "text/plain": [
       "<Figure size 1200x400 with 2 Axes>"
      ]
     },
     "metadata": {
      "image/png": {
       "height": 391,
       "width": 990
      }
     },
     "output_type": "display_data"
    }
   ],
   "source": [
    "ex.sick_days_viz(healthy, diabetes)"
   ]
  },
  {
   "cell_type": "markdown",
   "metadata": {},
   "source": [
    " We can see that reported poor physical health days differ a lot in both groups, while menthal health values are almost the same. Furthermore, both this features look more categorical than numerical. On the next visualization, I reduce the number of categories to three and we can clearly observe the same tendency as on the previous image. Prior data preprocessing I'll create 3 categories in both features."
   ]
  },
  {
   "cell_type": "code",
   "execution_count": 23,
   "metadata": {},
   "outputs": [
    {
     "data": {
      "image/png": "[encoded data removed]",
      "text/plain": [
       "<Figure size 1200x400 with 2 Axes>"
      ]
     },
     "metadata": {
      "image/png": {
       "height": 391,
       "width": 990
      }
     },
     "output_type": "display_data"
    }
   ],
   "source": [
    "ex.sick_days_viz_bins(healthy, diabetes, 3)"
   ]
  },
  {
   "cell_type": "code",
   "execution_count": 24,
   "metadata": {},
   "outputs": [
    {
     "data": {
      "text/plain": [
       "MentHlth\n",
       "low       163539\n",
       "high       11424\n",
       "medium      8616\n",
       "Name: count, dtype: int64"
      ]
     },
     "execution_count": 24,
     "metadata": {},
     "output_type": "execute_result"
    }
   ],
   "source": [
    "# split by categories\n",
    "pd.cut(df_explore.MentHlth, bins=3, labels=['low', 'medium', 'high']).value_counts()"
   ]
  },
  {
   "cell_type": "code",
   "execution_count": 25,
   "metadata": {},
   "outputs": [
    {
     "data": {
      "text/plain": [
       "PhysHlth\n",
       "low       156174\n",
       "high       17946\n",
       "medium      9459\n",
       "Name: count, dtype: int64"
      ]
     },
     "execution_count": 25,
     "metadata": {},
     "output_type": "execute_result"
    }
   ],
   "source": [
    "# same but with pysical health\n",
    "pd.cut(df_explore.PhysHlth, bins=3, labels=['low', 'medium', 'high']).value_counts()"
   ]
  },
  {
   "cell_type": "markdown",
   "metadata": {},
   "source": [
    "#### Categorical features\n",
    "\n",
    "Most of columns in our data contain categorical data. As a first same of exploring categorical features, I'd like to plot the data from the `Age` column to see if I can reduce the number of categories from 13 to 4, 5 or 6."
   ]
  },
  {
   "cell_type": "code",
   "execution_count": 43,
   "metadata": {},
   "outputs": [
    {
     "data": {
      "image/png": "[encoded data removed]",
      "text/plain": [
       "<Figure size 1200x400 with 1 Axes>"
      ]
     },
     "metadata": {
      "image/png": {
       "height": 415,
       "width": 1023
      }
     },
     "output_type": "display_data"
    }
   ],
   "source": [
    "# age categories and diabetis\n",
    "ex.age_viz(healthy, diabetes)"
   ]
  },
  {
   "cell_type": "markdown",
   "metadata": {},
   "source": [
    "If I bin the `Age` column, min number of bins should be min 6, as data varies a lot."
   ]
  },
  {
   "cell_type": "markdown",
   "metadata": {},
   "source": [
    "#### Feature importance test\n",
    "For all categorical features I calculate mutual info score and run chi scared statistical test. "
   ]
  },
  {
   "cell_type": "code",
   "execution_count": 15,
   "metadata": {},
   "outputs": [],
   "source": [
    "# reduce the number of categories for mental and physical health\n",
    "df_explore.MentHlth = pd.cut(df_explore.MentHlth, bins=3, labels=['low', 'medium', 'high'])\n",
    "df_explore.PhysHlth = pd.cut(df_explore.PhysHlth, bins=3, labels=['low', 'medium', 'high'])"
   ]
  },
  {
   "cell_type": "markdown",
   "metadata": {},
   "source": [
    "The data frame below shows mutual info scores and p-values for each categorical feature. All p-values show significance, however, mutual info scores are very low for some categories."
   ]
  },
  {
   "cell_type": "code",
   "execution_count": 16,
   "metadata": {},
   "outputs": [
    {
     "data": {
      "text/html": [
       "<div>\n",
       "<style scoped>\n",
       "    .dataframe tbody tr th:only-of-type {\n",
       "        vertical-align: middle;\n",
       "    }\n",
       "\n",
       "    .dataframe tbody tr th {\n",
       "        vertical-align: top;\n",
       "    }\n",
       "\n",
       "    .dataframe thead th {\n",
       "        text-align: right;\n",
       "    }\n",
       "</style>\n",
       "<table border=\"1\" class=\"dataframe\">\n",
       "  <thead>\n",
       "    <tr style=\"text-align: right;\">\n",
       "      <th></th>\n",
       "      <th>mi</th>\n",
       "      <th>P_value</th>\n",
       "      <th>is_significant</th>\n",
       "    </tr>\n",
       "  </thead>\n",
       "  <tbody>\n",
       "    <tr>\n",
       "      <th>GenHlth</th>\n",
       "      <td>0.040</td>\n",
       "      <td>0.000</td>\n",
       "      <td>True</td>\n",
       "    </tr>\n",
       "    <tr>\n",
       "      <th>HighBP</th>\n",
       "      <td>0.033</td>\n",
       "      <td>0.000</td>\n",
       "      <td>True</td>\n",
       "    </tr>\n",
       "    <tr>\n",
       "      <th>Age</th>\n",
       "      <td>0.021</td>\n",
       "      <td>0.000</td>\n",
       "      <td>True</td>\n",
       "    </tr>\n",
       "    <tr>\n",
       "      <th>HighChol</th>\n",
       "      <td>0.019</td>\n",
       "      <td>0.000</td>\n",
       "      <td>True</td>\n",
       "    </tr>\n",
       "    <tr>\n",
       "      <th>DiffWalk</th>\n",
       "      <td>0.019</td>\n",
       "      <td>0.000</td>\n",
       "      <td>True</td>\n",
       "    </tr>\n",
       "    <tr>\n",
       "      <th>HeartDiseaseorAttack</th>\n",
       "      <td>0.011</td>\n",
       "      <td>0.000</td>\n",
       "      <td>True</td>\n",
       "    </tr>\n",
       "    <tr>\n",
       "      <th>Income</th>\n",
       "      <td>0.010</td>\n",
       "      <td>0.000</td>\n",
       "      <td>True</td>\n",
       "    </tr>\n",
       "    <tr>\n",
       "      <th>PhysHlth</th>\n",
       "      <td>0.009</td>\n",
       "      <td>0.000</td>\n",
       "      <td>True</td>\n",
       "    </tr>\n",
       "    <tr>\n",
       "      <th>Education</th>\n",
       "      <td>0.005</td>\n",
       "      <td>0.000</td>\n",
       "      <td>True</td>\n",
       "    </tr>\n",
       "    <tr>\n",
       "      <th>PhysActivity</th>\n",
       "      <td>0.005</td>\n",
       "      <td>0.000</td>\n",
       "      <td>True</td>\n",
       "    </tr>\n",
       "    <tr>\n",
       "      <th>Stroke</th>\n",
       "      <td>0.004</td>\n",
       "      <td>0.000</td>\n",
       "      <td>True</td>\n",
       "    </tr>\n",
       "    <tr>\n",
       "      <th>CholCheck</th>\n",
       "      <td>0.004</td>\n",
       "      <td>0.000</td>\n",
       "      <td>True</td>\n",
       "    </tr>\n",
       "    <tr>\n",
       "      <th>HvyAlcoholConsump</th>\n",
       "      <td>0.003</td>\n",
       "      <td>0.000</td>\n",
       "      <td>True</td>\n",
       "    </tr>\n",
       "    <tr>\n",
       "      <th>MentHlth</th>\n",
       "      <td>0.002</td>\n",
       "      <td>0.000</td>\n",
       "      <td>True</td>\n",
       "    </tr>\n",
       "    <tr>\n",
       "      <th>Smoker</th>\n",
       "      <td>0.001</td>\n",
       "      <td>0.000</td>\n",
       "      <td>True</td>\n",
       "    </tr>\n",
       "    <tr>\n",
       "      <th>Veggies</th>\n",
       "      <td>0.001</td>\n",
       "      <td>0.000</td>\n",
       "      <td>True</td>\n",
       "    </tr>\n",
       "    <tr>\n",
       "      <th>Sex</th>\n",
       "      <td>0.001</td>\n",
       "      <td>0.000</td>\n",
       "      <td>True</td>\n",
       "    </tr>\n",
       "    <tr>\n",
       "      <th>Fruits</th>\n",
       "      <td>0.000</td>\n",
       "      <td>0.000</td>\n",
       "      <td>True</td>\n",
       "    </tr>\n",
       "    <tr>\n",
       "      <th>AnyHealthcare</th>\n",
       "      <td>0.000</td>\n",
       "      <td>0.000</td>\n",
       "      <td>True</td>\n",
       "    </tr>\n",
       "    <tr>\n",
       "      <th>NoDocbcCost</th>\n",
       "      <td>0.000</td>\n",
       "      <td>0.000</td>\n",
       "      <td>True</td>\n",
       "    </tr>\n",
       "  </tbody>\n",
       "</table>\n",
       "</div>"
      ],
      "text/plain": [
       "                        mi  P_value  is_significant\n",
       "GenHlth              0.040    0.000            True\n",
       "HighBP               0.033    0.000            True\n",
       "Age                  0.021    0.000            True\n",
       "HighChol             0.019    0.000            True\n",
       "DiffWalk             0.019    0.000            True\n",
       "HeartDiseaseorAttack 0.011    0.000            True\n",
       "Income               0.010    0.000            True\n",
       "PhysHlth             0.009    0.000            True\n",
       "Education            0.005    0.000            True\n",
       "PhysActivity         0.005    0.000            True\n",
       "Stroke               0.004    0.000            True\n",
       "CholCheck            0.004    0.000            True\n",
       "HvyAlcoholConsump    0.003    0.000            True\n",
       "MentHlth             0.002    0.000            True\n",
       "Smoker               0.001    0.000            True\n",
       "Veggies              0.001    0.000            True\n",
       "Sex                  0.001    0.000            True\n",
       "Fruits               0.000    0.000            True\n",
       "AnyHealthcare        0.000    0.000            True\n",
       "NoDocbcCost          0.000    0.000            True"
      ]
     },
     "execution_count": 16,
     "metadata": {},
     "output_type": "execute_result"
    }
   ],
   "source": [
    "# show stat tests results\n",
    "stat_values = ex.stat_categorical(df_explore, 'Diabetes')\n",
    "stat_values"
   ]
  },
  {
   "cell_type": "code",
   "execution_count": 17,
   "metadata": {},
   "outputs": [
    {
     "data": {
      "text/plain": [
       "['Veggies', 'Sex', 'Fruits', 'AnyHealthcare', 'NoDocbcCost']"
      ]
     },
     "execution_count": 17,
     "metadata": {},
     "output_type": "execute_result"
    }
   ],
   "source": [
    "# 5 columns with the smalles mi score will be dropped\n",
    "stat_values[-5:].index.to_list()"
   ]
  },
  {
   "cell_type": "markdown",
   "metadata": {},
   "source": [
    "Check if lowering the number of age categories increases mutual info score."
   ]
  },
  {
   "cell_type": "code",
   "execution_count": 21,
   "metadata": {},
   "outputs": [
    {
     "data": {
      "text/plain": [
       "0.019864020422751982"
      ]
     },
     "execution_count": 21,
     "metadata": {},
     "output_type": "execute_result"
    }
   ],
   "source": [
    "# change categories back to numerical\n",
    "df_explore.Age = pd.Categorical(df_explore.Age, ordered=True)\n",
    "df_explore.Age = df_explore.Age.cat.rename_categories([1, 2, 3, 4, 5, 6, 7, 8, 9, 10, 11, 12, 13])\n",
    "# bin the categories\n",
    "df_explore.Age = pd.cut(df_explore.Age, bins=5, labels = [1, 2, 3, 4, 5])\n",
    "# check the score\n",
    "ex.stat_categorical(df_explore, 'Diabetes').loc['Age', 'mi']"
   ]
  },
  {
   "cell_type": "markdown",
   "metadata": {},
   "source": [
    "The score decreases, I leave the `Age` column without changes."
   ]
  },
  {
   "cell_type": "markdown",
   "metadata": {},
   "source": [
    "### Data cleaning, feature engineering and preprocessing\n",
    "\n",
    "Based on the results of the data exploration, the following data preprocessing steps will be performed:\n",
    "1. Cleaning: Drop the columns `Veggies`, `Sex`, `Fruits`, `AnyHealthcare`, and `NoDocbcCost`. All other nominal data will remain unchanged.\n",
    "2. Feature engineering: Reduce the number of ordered categories in `MentHlth` and `PhysHlth` and encode them using `OneHotEncoder`.\n",
    "3. The other ordinal data, such as `GenHlth`, `Age`, `Education`, and `Income`, will remain with number encoding.\n",
    "4. The BMI will remain a continuous variable without any categorical data engineering involved.\n",
    "\n",
    "You can find all the relevant code in the `data_prep.py` file, functions `clean_data`, `split_data`, `get_X`"
   ]
  },
  {
   "cell_type": "code",
   "execution_count": 197,
   "metadata": {},
   "outputs": [],
   "source": [
    "train, validate, test, y_train, y_val, y_test = dp.split_data(df)"
   ]
  },
  {
   "cell_type": "code",
   "execution_count": 198,
   "metadata": {},
   "outputs": [
    {
     "data": {
      "text/plain": [
       "(137684, 45895, 45895)"
      ]
     },
     "execution_count": 198,
     "metadata": {},
     "output_type": "execute_result"
    }
   ],
   "source": [
    "# check the length of data sets\n",
    "train.shape[0], validate.shape[0], test.shape[0]"
   ]
  },
  {
   "cell_type": "code",
   "execution_count": 199,
   "metadata": {},
   "outputs": [
    {
     "name": "stdout",
     "output_type": "stream",
     "text": [
      "<class 'pandas.core.frame.DataFrame'>\n",
      "RangeIndex: 137684 entries, 0 to 137683\n",
      "Data columns (total 16 columns):\n",
      " #   Column                Non-Null Count   Dtype   \n",
      "---  ------                --------------   -----   \n",
      " 0   HighBP                137684 non-null  uint8   \n",
      " 1   HighChol              137684 non-null  uint8   \n",
      " 2   CholCheck             137684 non-null  uint8   \n",
      " 3   BMI                   137684 non-null  uint8   \n",
      " 4   Smoker                137684 non-null  uint8   \n",
      " 5   Stroke                137684 non-null  uint8   \n",
      " 6   HeartDiseaseorAttack  137684 non-null  uint8   \n",
      " 7   PhysActivity          137684 non-null  uint8   \n",
      " 8   HvyAlcoholConsump     137684 non-null  uint8   \n",
      " 9   GenHlth               137684 non-null  category\n",
      " 10  MentHlth              137684 non-null  category\n",
      " 11  PhysHlth              137684 non-null  category\n",
      " 12  DiffWalk              137684 non-null  uint8   \n",
      " 13  Age                   137684 non-null  category\n",
      " 14  Education             137684 non-null  category\n",
      " 15  Income                137684 non-null  category\n",
      "dtypes: category(6), uint8(10)\n",
      "memory usage: 2.1 MB\n"
     ]
    }
   ],
   "source": [
    "# data after cleaning\n",
    "train.info()"
   ]
  },
  {
   "cell_type": "code",
   "execution_count": 200,
   "metadata": {},
   "outputs": [
    {
     "data": {
      "text/html": [
       "<div>\n",
       "<style scoped>\n",
       "    .dataframe tbody tr th:only-of-type {\n",
       "        vertical-align: middle;\n",
       "    }\n",
       "\n",
       "    .dataframe tbody tr th {\n",
       "        vertical-align: top;\n",
       "    }\n",
       "\n",
       "    .dataframe thead th {\n",
       "        text-align: right;\n",
       "    }\n",
       "</style>\n",
       "<table border=\"1\" class=\"dataframe\">\n",
       "  <thead>\n",
       "    <tr style=\"text-align: right;\">\n",
       "      <th></th>\n",
       "      <th>HighBP</th>\n",
       "      <th>HighChol</th>\n",
       "      <th>CholCheck</th>\n",
       "      <th>BMI</th>\n",
       "      <th>Smoker</th>\n",
       "      <th>Stroke</th>\n",
       "      <th>HeartDiseaseorAttack</th>\n",
       "      <th>PhysActivity</th>\n",
       "      <th>HvyAlcoholConsump</th>\n",
       "      <th>GenHlth</th>\n",
       "      <th>MentHlth</th>\n",
       "      <th>PhysHlth</th>\n",
       "      <th>DiffWalk</th>\n",
       "      <th>Age</th>\n",
       "      <th>Education</th>\n",
       "      <th>Income</th>\n",
       "    </tr>\n",
       "  </thead>\n",
       "  <tbody>\n",
       "    <tr>\n",
       "      <th>0</th>\n",
       "      <td>0</td>\n",
       "      <td>0</td>\n",
       "      <td>1</td>\n",
       "      <td>22</td>\n",
       "      <td>1</td>\n",
       "      <td>0</td>\n",
       "      <td>0</td>\n",
       "      <td>1</td>\n",
       "      <td>1</td>\n",
       "      <td>1</td>\n",
       "      <td>low</td>\n",
       "      <td>low</td>\n",
       "      <td>0</td>\n",
       "      <td>7</td>\n",
       "      <td>4</td>\n",
       "      <td>8</td>\n",
       "    </tr>\n",
       "    <tr>\n",
       "      <th>1</th>\n",
       "      <td>0</td>\n",
       "      <td>1</td>\n",
       "      <td>1</td>\n",
       "      <td>21</td>\n",
       "      <td>1</td>\n",
       "      <td>0</td>\n",
       "      <td>0</td>\n",
       "      <td>1</td>\n",
       "      <td>0</td>\n",
       "      <td>3</td>\n",
       "      <td>low</td>\n",
       "      <td>low</td>\n",
       "      <td>0</td>\n",
       "      <td>12</td>\n",
       "      <td>6</td>\n",
       "      <td>4</td>\n",
       "    </tr>\n",
       "    <tr>\n",
       "      <th>2</th>\n",
       "      <td>1</td>\n",
       "      <td>1</td>\n",
       "      <td>1</td>\n",
       "      <td>26</td>\n",
       "      <td>0</td>\n",
       "      <td>0</td>\n",
       "      <td>0</td>\n",
       "      <td>1</td>\n",
       "      <td>0</td>\n",
       "      <td>4</td>\n",
       "      <td>low</td>\n",
       "      <td>medium</td>\n",
       "      <td>1</td>\n",
       "      <td>9</td>\n",
       "      <td>4</td>\n",
       "      <td>1</td>\n",
       "    </tr>\n",
       "    <tr>\n",
       "      <th>3</th>\n",
       "      <td>0</td>\n",
       "      <td>0</td>\n",
       "      <td>1</td>\n",
       "      <td>28</td>\n",
       "      <td>1</td>\n",
       "      <td>0</td>\n",
       "      <td>0</td>\n",
       "      <td>1</td>\n",
       "      <td>0</td>\n",
       "      <td>2</td>\n",
       "      <td>low</td>\n",
       "      <td>low</td>\n",
       "      <td>0</td>\n",
       "      <td>8</td>\n",
       "      <td>6</td>\n",
       "      <td>7</td>\n",
       "    </tr>\n",
       "    <tr>\n",
       "      <th>4</th>\n",
       "      <td>0</td>\n",
       "      <td>0</td>\n",
       "      <td>1</td>\n",
       "      <td>24</td>\n",
       "      <td>0</td>\n",
       "      <td>0</td>\n",
       "      <td>0</td>\n",
       "      <td>1</td>\n",
       "      <td>0</td>\n",
       "      <td>4</td>\n",
       "      <td>low</td>\n",
       "      <td>low</td>\n",
       "      <td>0</td>\n",
       "      <td>9</td>\n",
       "      <td>6</td>\n",
       "      <td>8</td>\n",
       "    </tr>\n",
       "  </tbody>\n",
       "</table>\n",
       "</div>"
      ],
      "text/plain": [
       "   HighBP  HighChol  CholCheck  BMI  Smoker  Stroke  HeartDiseaseorAttack  \\\n",
       "0       0         0          1   22       1       0                     0   \n",
       "1       0         1          1   21       1       0                     0   \n",
       "2       1         1          1   26       0       0                     0   \n",
       "3       0         0          1   28       1       0                     0   \n",
       "4       0         0          1   24       0       0                     0   \n",
       "\n",
       "   PhysActivity  HvyAlcoholConsump GenHlth MentHlth PhysHlth  DiffWalk Age  \\\n",
       "0             1                  1       1      low      low         0   7   \n",
       "1             1                  0       3      low      low         0  12   \n",
       "2             1                  0       4      low   medium         1   9   \n",
       "3             1                  0       2      low      low         0   8   \n",
       "4             1                  0       4      low      low         0   9   \n",
       "\n",
       "  Education Income  \n",
       "0         4      8  \n",
       "1         6      4  \n",
       "2         4      1  \n",
       "3         6      7  \n",
       "4         6      8  "
      ]
     },
     "execution_count": 200,
     "metadata": {},
     "output_type": "execute_result"
    }
   ],
   "source": [
    "train.head()"
   ]
  },
  {
   "cell_type": "markdown",
   "metadata": {},
   "source": [
    "### Model evaluation\n",
    "\n",
    "<details><summary><i>Expand</i></summary>\n",
    "\n",
    "> For model evaluation I use __*recall score*__. It is less costly to falsely identify someone as sick or high-risk than it is to falsely identify someone as healthy and miss the opportunity to start early treatment. Therefore, in this case recall is a more reliable indicator of accuracy.\n",
    "\n",
    "> $Recall = \\frac{TruePositive}{TruePositive + FalseNegative}$ \n",
    "\n",
    "__Recall__ ranges from 0 to 1 and tells us how well our model does at recognizing the actually positve cases. \n",
    "\n",
    "For example, if we predict that __all patients__ are healthy (`Diabetes_binary = 0`), recall score will be equal to 0 because we didn't predict correct any case of diabetis.\n",
    "\n",
    "```python\n",
    ">>> recall_score(y_val, np.zeros(len(y_val)), zero_division=0)\n",
    "0.0\n",
    "```\n",
    "\n",
    "If we predict that everyone has diabetes (`Diabetes_binary = 1`), recall score will be equal to one, as we haven't make any errors in predictions of people with diabetes.\n",
    "```python\n",
    ">>> recall_score(y_train, np.ones(len(y_train)))\n",
    "1.0\n",
    "```\n",
    "\n",
    "Like in the example above we can get the perfect recall score equal to one just by assigning the positive diagnosis for all patients. This doesn't make the machine learning model good, that's why we need to take into consideration other metrics, too. \n",
    "\n",
    "In my evaluation I'll pay attention to `precision`, `f1 score` and `auc score`.\n",
    "- __Precision__ tells us how many people that we predicted to have diabetes really have diabetes.\n",
    "- __F1 score__ tells how good are positive predictions.\n",
    "- __AUC score__ shows the overall fit of predictions. The `auc` score below 0.5 will alarm that the model makes more incorrect predictions that correct ones.\n",
    "\n",
    "</details>"
   ]
  },
  {
   "cell_type": "code",
   "execution_count": 202,
   "metadata": {},
   "outputs": [
    {
     "name": "stdout",
     "output_type": "stream",
     "text": [
      "Precision score for everyone predicted healthy:   0.0\n",
      "Precision score for everyone predicted sick:      0.16\n",
      "F1 score for everyone predicted healthy:          0.0\n",
      "F1 score for everyone predicted sick:             0.27\n",
      "AUC score for everyone predicted healthy:         0.5\n",
      "AUC score for everyone predicted sick:            0.5\n"
     ]
    }
   ],
   "source": [
    "print(f'{\"Precision score for everyone predicted healthy:\":<50}{precision_score(y_val, np.zeros(len(y_val)), zero_division=0): >3}')\n",
    "print(f'{\"Precision score for everyone predicted sick:\":<50}{precision_score(y_val, np.ones(len(y_val))).round(2): >3}')\n",
    "print(f'{\"F1 score for everyone predicted healthy:\":<50}{f1_score(y_val, np.zeros(len(y_val))): >3}')\n",
    "print(f'{\"F1 score for everyone predicted sick:\":<50}{f1_score(y_val, np.ones(len(y_val))).round(2): >3}')\n",
    "print(f'{\"AUC score for everyone predicted healthy:\":<50}{roc_auc_score(y_val, np.zeros(len(y_val))): >3}')\n",
    "print(f'{\"AUC score for everyone predicted sick:\":<50}{roc_auc_score(y_val, np.ones(len(y_val))): >3}')\n"
   ]
  },
  {
   "cell_type": "markdown",
   "metadata": {},
   "source": [
    "<div class=\"alert alert-success\">\n",
    "\n",
    "### Modeling"
   ]
  },
  {
   "cell_type": "code",
   "execution_count": 203,
   "metadata": {},
   "outputs": [],
   "source": [
    "# prepare data for the model\n",
    "X_train, X_validate, X_test = dp.get_X(train, validate, test)"
   ]
  },
  {
   "cell_type": "markdown",
   "metadata": {},
   "source": [
    "<div class=\"alert alert-warning\">\n",
    "\n",
    "### Baseline model"
   ]
  },
  {
   "cell_type": "markdown",
   "metadata": {},
   "source": [
    "\n",
    "I create a baseline model with random probabilities of getting diabetes. It serves as a point of reference agianst which the performance of machine learning models is measured. "
   ]
  },
  {
   "cell_type": "code",
   "execution_count": 204,
   "metadata": {},
   "outputs": [
    {
     "name": "stdout",
     "output_type": "stream",
     "text": [
      "Random model Precision:   0.15\n",
      "Random model Recall:      0.49\n",
      "Random model F1 score:    0.23\n",
      "Random model AUC score:   0.49\n"
     ]
    }
   ],
   "source": [
    "# create a baseline model\n",
    "np.random.seed(dp.seed)\n",
    "y_rand = np.random.uniform(0, 1, size=len(y_val))\n",
    "print(f'{\"Random model Precision:\":<25}{precision_score(y_val, y_rand >= 0.5).round(2): >5}')\n",
    "print(f'{\"Random model Recall:\":<25}{recall_score(y_val, y_rand >= 0.5).round(2): >5}')\n",
    "print(f'{\"Random model F1 score:\":<25}{f1_score(y_val, y_rand >= 0.5).round(2): >5}')\n",
    "print(f'{\"Random model AUC score:\":<25}{roc_auc_score(y_val, y_rand).round(2): >5}')\n"
   ]
  },
  {
   "cell_type": "markdown",
   "metadata": {},
   "source": [
    "My first modeling iteration with the `RandomForestClassifier` showed very bad results. Accuracy of the model is 82%, which is lower than predicting for everyone to be healthy. In this case accuracy will be equal to the proportion of healthy people in our data - 84.7%. The recall score is 28%, which is 21% lower that the random model has. You can see that information below in the classification report."
   ]
  },
  {
   "cell_type": "code",
   "execution_count": 205,
   "metadata": {},
   "outputs": [
    {
     "name": "stdout",
     "output_type": "stream",
     "text": [
      "              precision    recall  f1-score\n",
      "\n",
      "           1       0.39      0.28      0.32\n",
      "\n",
      "    accuracy                           0.82\n",
      "         auc                           0.73\n"
     ]
    }
   ],
   "source": [
    "# create a RandomForestClassifier\n",
    "rf = RandomForestClassifier(n_estimators=10, random_state=dp.seed)\n",
    "# fit\n",
    "rf.fit(X_train, y_train)\n",
    "# predict\n",
    "y_pred = rf.predict_proba(X_validate)[:, 1]\n",
    "# print classification report with scores and AUC score\n",
    "print(md.get_report(y_val, y_pred))"
   ]
  },
  {
   "cell_type": "markdown",
   "metadata": {},
   "source": [
    "### Data cleaning, feature engineering and preprocessing II\n",
    "\n",
    "I made an attempt to improve the model by tuning it, but it didn't result in any significant improvements. Thus, I decided to modify the preprocessing part of the data.\n",
    "\n",
    "Here are the changes that were made:\n",
    "\n",
    "1. The most important modification was __balancing__ the data. Now, there are 50% people with diabetes and 50% without. The size of data set decreased.\n",
    "2. `BMI` have been converted from a continuous variable to a categorical one. Two new columns have been created: `BMI_under` (for those whose BMI is equal to or lower than 18, with a value of 1, and 0 for the rest) and `BMI_over` (for those whose BMI is equal to or higher than 25, with a value of 1, and 0 for the rest). Respondents with a `normal BMI` receive a value of 0 in both columns.\n",
    "3. All ordinal categories have been encoded using `One Hot Encoder`. \n",
    "\n",
    "As a result a recall score went from 0.28 to 0.72 and other scores were improved as well."
   ]
  },
  {
   "cell_type": "code",
   "execution_count": 5,
   "metadata": {},
   "outputs": [
    {
     "data": {
      "text/plain": [
       "(42116, 14039, 14039)"
      ]
     },
     "execution_count": 5,
     "metadata": {},
     "output_type": "execute_result"
    }
   ],
   "source": [
    "# reassign variables with balanced data\n",
    "train, validate, test, y_train, y_val, y_test = dp.split_data(df, balance=True)\n",
    "train.shape[0], validate.shape[0], test.shape[0]"
   ]
  },
  {
   "cell_type": "code",
   "execution_count": 207,
   "metadata": {},
   "outputs": [
    {
     "name": "stdout",
     "output_type": "stream",
     "text": [
      "<class 'pandas.core.frame.DataFrame'>\n",
      "RangeIndex: 42116 entries, 0 to 42115\n",
      "Data columns (total 16 columns):\n",
      " #   Column                Non-Null Count  Dtype   \n",
      "---  ------                --------------  -----   \n",
      " 0   HighBP                42116 non-null  uint8   \n",
      " 1   HighChol              42116 non-null  uint8   \n",
      " 2   CholCheck             42116 non-null  uint8   \n",
      " 3   BMI                   42116 non-null  uint8   \n",
      " 4   Smoker                42116 non-null  uint8   \n",
      " 5   Stroke                42116 non-null  uint8   \n",
      " 6   HeartDiseaseorAttack  42116 non-null  uint8   \n",
      " 7   PhysActivity          42116 non-null  uint8   \n",
      " 8   HvyAlcoholConsump     42116 non-null  uint8   \n",
      " 9   GenHlth               42116 non-null  category\n",
      " 10  MentHlth              42116 non-null  category\n",
      " 11  PhysHlth              42116 non-null  category\n",
      " 12  DiffWalk              42116 non-null  uint8   \n",
      " 13  Age                   42116 non-null  category\n",
      " 14  Education             42116 non-null  category\n",
      " 15  Income                42116 non-null  category\n",
      "dtypes: category(6), uint8(10)\n",
      "memory usage: 659.9 KB\n"
     ]
    }
   ],
   "source": [
    "train.info()"
   ]
  },
  {
   "cell_type": "code",
   "execution_count": 222,
   "metadata": {},
   "outputs": [
    {
     "data": {
      "image/png": "[encoded data removed]",
      "text/plain": [
       "<Figure size 400x400 with 1 Axes>"
      ]
     },
     "metadata": {
      "image/png": {
       "height": 349,
       "width": 328
      }
     },
     "output_type": "display_data"
    }
   ],
   "source": [
    "# visualize target variable balance in train data\n",
    "ex.diabetes_piechart_ytrain(y_train)"
   ]
  },
  {
   "cell_type": "code",
   "execution_count": 10,
   "metadata": {},
   "outputs": [
    {
     "name": "stdout",
     "output_type": "stream",
     "text": [
      "Everyone is predicted healthy\n",
      "Precision score:                                  0.0\n",
      "F1 score:                                         0.0\n",
      "AUC score:                                        0.5\n",
      "===============\n",
      "\n",
      "Everyone is predicted sick\n",
      "Precision when every one is predicted sick:       0.5\n",
      "F1 score when every one is predicted sick:        0.66\n",
      "AUC score when every one is predicted sick:       0.5\n"
     ]
    }
   ],
   "source": [
    "# recalculate scores for data when everyone is sick or everyone is healthy\n",
    "print(\"Everyone is predicted healthy\")\n",
    "print(f'{\"Precision score:\":<50}{precision_score(y_val, np.zeros(len(y_val)), zero_division=0): >3}')\n",
    "print(f'{\"F1 score:\":<50}{f1_score(y_val, np.zeros(len(y_val))): >3}')\n",
    "print(f'{\"AUC score:\":<50}{roc_auc_score(y_val, np.zeros(len(y_val))): >3}')\n",
    "print(\"===============\")\n",
    "print()\n",
    "print(\"Everyone is predicted sick\")\n",
    "print(f'{\"Precision when every one is predicted sick:\":<50}{precision_score(y_val, np.ones(len(y_val))).round(2): >3}')\n",
    "print(f'{\"F1 score when every one is predicted sick:\":<50}{f1_score(y_val, np.ones(len(y_val))).round(2): >3}')\n",
    "print(f'{\"AUC score when every one is predicted sick:\":<50}{roc_auc_score(y_val, np.ones(len(y_val))): >3}')"
   ]
  },
  {
   "cell_type": "code",
   "execution_count": 223,
   "metadata": {},
   "outputs": [
    {
     "name": "stdout",
     "output_type": "stream",
     "text": [
      "Random model Accuracy:    0.51\n",
      "Random model Precision:    0.5\n",
      "Random model Recall:      0.51\n",
      "Random model F1 score:    0.51\n",
      "Random model AUC score:   0.51\n"
     ]
    }
   ],
   "source": [
    "# recreate a basline model save and print scores\n",
    "np.random.seed(dp.seed)\n",
    "y_rand = np.random.uniform(0, 1, size=len(y_val))\n",
    "# calculate baseline scores\n",
    "baseline_precision = precision_score(y_val, y_rand >= 0.5)\n",
    "basline_recall = recall_score(y_val, y_rand >= 0.5)\n",
    "baseline_f1 = f1_score(y_val, y_rand >= 0.5)\n",
    "baseline_auc = roc_auc_score(y_val, y_rand)\n",
    "# preint results\n",
    "print(f'{\"Random model Accuracy:\":<25}{accuracy_score(y_val, y_rand >= 0.5).round(2): >5}')\n",
    "print(f'{\"Random model Precision:\":<25}{baseline_precision.round(2): >5}')\n",
    "print(f'{\"Random model Recall:\":<25}{basline_recall.round(2): >5}')\n",
    "print(f'{\"Random model F1 score:\":<25}{baseline_f1.round(2): >5}')\n",
    "print(f'{\"Random model AUC score:\":<25}{baseline_auc.round(2): >5}')"
   ]
  },
  {
   "cell_type": "code",
   "execution_count": 6,
   "metadata": {},
   "outputs": [
    {
     "data": {
      "text/plain": [
       "((42116, 43), (14039, 43), (14039, 43))"
      ]
     },
     "execution_count": 6,
     "metadata": {},
     "output_type": "execute_result"
    }
   ],
   "source": [
    "# reassign X_train, X_validate, X_test\n",
    "X_train, X_validate, X_test = dp.get_X_ohe(train, validate, test)\n",
    "X_train.shape, X_validate.shape, X_test.shape"
   ]
  },
  {
   "cell_type": "code",
   "execution_count": 225,
   "metadata": {},
   "outputs": [
    {
     "name": "stdout",
     "output_type": "stream",
     "text": [
      "              precision    recall  f1-score\n",
      "\n",
      "           1       0.67      0.72      0.69\n",
      "\n",
      "    accuracy                           0.68\n",
      "         auc                           0.74\n"
     ]
    }
   ],
   "source": [
    "# repeat modeling and print classification report\n",
    "# create a RandomForestClassifier\n",
    "rf = RandomForestClassifier(n_estimators=10, random_state=dp.seed)\n",
    "rf.fit(X_train, y_train)\n",
    "y_pred = rf.predict_proba(X_validate)[:, 1]\n",
    "# print classification report with scores and AUC score\n",
    "print(md.get_report(y_val, y_pred))"
   ]
  },
  {
   "cell_type": "markdown",
   "metadata": {},
   "source": [
    "Our main evaluation metric - recall, went from 0.28 to 0.72. This is a huge improvement. "
   ]
  },
  {
   "cell_type": "markdown",
   "metadata": {},
   "source": [
    "<div class=\"alert alert-success\">\n",
    "\n",
    "### Random Forest Tuning"
   ]
  },
  {
   "cell_type": "markdown",
   "metadata": {},
   "source": [
    "#### Find the optimal threshold."
   ]
  },
  {
   "cell_type": "code",
   "execution_count": 226,
   "metadata": {},
   "outputs": [
    {
     "data": {
      "text/html": [
       "<div>\n",
       "<style scoped>\n",
       "    .dataframe tbody tr th:only-of-type {\n",
       "        vertical-align: middle;\n",
       "    }\n",
       "\n",
       "    .dataframe tbody tr th {\n",
       "        vertical-align: top;\n",
       "    }\n",
       "\n",
       "    .dataframe thead th {\n",
       "        text-align: right;\n",
       "    }\n",
       "</style>\n",
       "<table border=\"1\" class=\"dataframe\">\n",
       "  <thead>\n",
       "    <tr style=\"text-align: right;\">\n",
       "      <th></th>\n",
       "      <th>thresholds</th>\n",
       "      <th>precision</th>\n",
       "      <th>recall</th>\n",
       "      <th>f1_score</th>\n",
       "      <th>auc_score</th>\n",
       "    </tr>\n",
       "  </thead>\n",
       "  <tbody>\n",
       "    <tr>\n",
       "      <th>0</th>\n",
       "      <td>baseline</td>\n",
       "      <td>0.503</td>\n",
       "      <td>0.508</td>\n",
       "      <td>0.505</td>\n",
       "      <td>0.505</td>\n",
       "    </tr>\n",
       "    <tr>\n",
       "      <th>1</th>\n",
       "      <td>0.000</td>\n",
       "      <td>0.497</td>\n",
       "      <td>1.000</td>\n",
       "      <td>0.664</td>\n",
       "      <td>0.736</td>\n",
       "    </tr>\n",
       "    <tr>\n",
       "      <th>2</th>\n",
       "      <td>0.100</td>\n",
       "      <td>0.555</td>\n",
       "      <td>0.954</td>\n",
       "      <td>0.702</td>\n",
       "      <td>0.736</td>\n",
       "    </tr>\n",
       "    <tr>\n",
       "      <th>3</th>\n",
       "      <td>0.200</td>\n",
       "      <td>0.586</td>\n",
       "      <td>0.913</td>\n",
       "      <td>0.714</td>\n",
       "      <td>0.736</td>\n",
       "    </tr>\n",
       "    <tr>\n",
       "      <th>4</th>\n",
       "      <td>0.300</td>\n",
       "      <td>0.625</td>\n",
       "      <td>0.840</td>\n",
       "      <td>0.716</td>\n",
       "      <td>0.736</td>\n",
       "    </tr>\n",
       "    <tr>\n",
       "      <th>5</th>\n",
       "      <td>0.400</td>\n",
       "      <td>0.643</td>\n",
       "      <td>0.803</td>\n",
       "      <td>0.714</td>\n",
       "      <td>0.736</td>\n",
       "    </tr>\n",
       "    <tr>\n",
       "      <th>6</th>\n",
       "      <td>0.500</td>\n",
       "      <td>0.667</td>\n",
       "      <td>0.722</td>\n",
       "      <td>0.693</td>\n",
       "      <td>0.736</td>\n",
       "    </tr>\n",
       "    <tr>\n",
       "      <th>7</th>\n",
       "      <td>0.600</td>\n",
       "      <td>0.697</td>\n",
       "      <td>0.573</td>\n",
       "      <td>0.629</td>\n",
       "      <td>0.736</td>\n",
       "    </tr>\n",
       "    <tr>\n",
       "      <th>8</th>\n",
       "      <td>0.700</td>\n",
       "      <td>0.723</td>\n",
       "      <td>0.442</td>\n",
       "      <td>0.549</td>\n",
       "      <td>0.736</td>\n",
       "    </tr>\n",
       "    <tr>\n",
       "      <th>9</th>\n",
       "      <td>0.800</td>\n",
       "      <td>0.737</td>\n",
       "      <td>0.387</td>\n",
       "      <td>0.507</td>\n",
       "      <td>0.736</td>\n",
       "    </tr>\n",
       "    <tr>\n",
       "      <th>10</th>\n",
       "      <td>0.900</td>\n",
       "      <td>0.751</td>\n",
       "      <td>0.243</td>\n",
       "      <td>0.367</td>\n",
       "      <td>0.736</td>\n",
       "    </tr>\n",
       "    <tr>\n",
       "      <th>11</th>\n",
       "      <td>1.000</td>\n",
       "      <td>0.766</td>\n",
       "      <td>0.113</td>\n",
       "      <td>0.197</td>\n",
       "      <td>0.736</td>\n",
       "    </tr>\n",
       "  </tbody>\n",
       "</table>\n",
       "</div>"
      ],
      "text/plain": [
       "   thresholds  precision  recall  f1_score  auc_score\n",
       "0    baseline      0.503   0.508     0.505      0.505\n",
       "1       0.000      0.497   1.000     0.664      0.736\n",
       "2       0.100      0.555   0.954     0.702      0.736\n",
       "3       0.200      0.586   0.913     0.714      0.736\n",
       "4       0.300      0.625   0.840     0.716      0.736\n",
       "5       0.400      0.643   0.803     0.714      0.736\n",
       "6       0.500      0.667   0.722     0.693      0.736\n",
       "7       0.600      0.697   0.573     0.629      0.736\n",
       "8       0.700      0.723   0.442     0.549      0.736\n",
       "9       0.800      0.737   0.387     0.507      0.736\n",
       "10      0.900      0.751   0.243     0.367      0.736\n",
       "11      1.000      0.766   0.113     0.197      0.736"
      ]
     },
     "execution_count": 226,
     "metadata": {},
     "output_type": "execute_result"
    }
   ],
   "source": [
    "thresholds = np.linspace(0, 1, 11)\n",
    "scores = [(\"baseline\", baseline_precision, basline_recall, baseline_f1, baseline_auc)]\n",
    "for t in thresholds:\n",
    "    rf = RandomForestClassifier(n_estimators=10, random_state=dp.seed)\n",
    "    rf.fit(X_train, y_train)\n",
    "    y_pred = rf.predict_proba(X_validate)[:, 1]\n",
    "    precision = precision_score(y_val, y_pred >= t)\n",
    "    recall = recall_score(y_val, y_pred >= t)\n",
    "    f1 = f1_score(y_val, y_pred >= t)\n",
    "    auc = roc_auc_score(y_val, y_pred)\n",
    "    scores.append((t, precision, recall, f1, auc))\n",
    "df_scores = pd.DataFrame(scores, columns=[\"thresholds\", \"precision\", \"recall\", \"f1_score\", \"auc_score\"])\n",
    "df_scores"
   ]
  },
  {
   "cell_type": "markdown",
   "metadata": {},
   "source": [
    "The best balance between all scores is achieved with the threshold equal to 0.4, meanwhile the threshold set to 0.5 also performs good."
   ]
  },
  {
   "cell_type": "markdown",
   "metadata": {},
   "source": [
    "#### Tune `max_depth`"
   ]
  },
  {
   "cell_type": "code",
   "execution_count": 243,
   "metadata": {},
   "outputs": [],
   "source": [
    "scores = []\n",
    "for t in [0.4, 0.5]:\n",
    "    for d in [1, 2, 3, 4, 5, 6, 10, 15, 20, None]:\n",
    "        rf = RandomForestClassifier(n_estimators=10, max_depth=d, random_state=dp.seed)\n",
    "        rf.fit(X_train, y_train)\n",
    "        y_pred = rf.predict_proba(X_validate)[:, 1]\n",
    "        precision = precision_score(y_val, y_pred >= t)\n",
    "        recall = recall_score(y_val, y_pred >= t)\n",
    "        f1 = f1_score(y_val, y_pred >= t)\n",
    "        auc = roc_auc_score(y_val, y_pred)\n",
    "        scores.append((round(t, 1), d, precision, recall, f1, auc))\n",
    "df_scores = pd.DataFrame(scores, columns=[\"thresholds\", \"max_depth\", \"precision\", \"recall\", \"f1_score\", \"auc_score\"])"
   ]
  },
  {
   "cell_type": "code",
   "execution_count": 245,
   "metadata": {},
   "outputs": [
    {
     "data": {
      "text/html": [
       "<div>\n",
       "<style scoped>\n",
       "    .dataframe tbody tr th:only-of-type {\n",
       "        vertical-align: middle;\n",
       "    }\n",
       "\n",
       "    .dataframe tbody tr th {\n",
       "        vertical-align: top;\n",
       "    }\n",
       "\n",
       "    .dataframe thead th {\n",
       "        text-align: right;\n",
       "    }\n",
       "</style>\n",
       "<table border=\"1\" class=\"dataframe\">\n",
       "  <thead>\n",
       "    <tr style=\"text-align: right;\">\n",
       "      <th></th>\n",
       "      <th>thresholds</th>\n",
       "      <th>max_depth</th>\n",
       "      <th>precision</th>\n",
       "      <th>recall</th>\n",
       "      <th>f1_score</th>\n",
       "      <th>auc_score</th>\n",
       "    </tr>\n",
       "  </thead>\n",
       "  <tbody>\n",
       "    <tr>\n",
       "      <th>6</th>\n",
       "      <td>0.400</td>\n",
       "      <td>10.000</td>\n",
       "      <td>0.658</td>\n",
       "      <td>0.866</td>\n",
       "      <td>0.748</td>\n",
       "      <td>0.797</td>\n",
       "    </tr>\n",
       "    <tr>\n",
       "      <th>16</th>\n",
       "      <td>0.500</td>\n",
       "      <td>10.000</td>\n",
       "      <td>0.708</td>\n",
       "      <td>0.768</td>\n",
       "      <td>0.737</td>\n",
       "      <td>0.797</td>\n",
       "    </tr>\n",
       "    <tr>\n",
       "      <th>7</th>\n",
       "      <td>0.400</td>\n",
       "      <td>15.000</td>\n",
       "      <td>0.663</td>\n",
       "      <td>0.856</td>\n",
       "      <td>0.747</td>\n",
       "      <td>0.791</td>\n",
       "    </tr>\n",
       "    <tr>\n",
       "      <th>17</th>\n",
       "      <td>0.500</td>\n",
       "      <td>15.000</td>\n",
       "      <td>0.700</td>\n",
       "      <td>0.761</td>\n",
       "      <td>0.730</td>\n",
       "      <td>0.791</td>\n",
       "    </tr>\n",
       "    <tr>\n",
       "      <th>4</th>\n",
       "      <td>0.400</td>\n",
       "      <td>5.000</td>\n",
       "      <td>0.642</td>\n",
       "      <td>0.875</td>\n",
       "      <td>0.741</td>\n",
       "      <td>0.789</td>\n",
       "    </tr>\n",
       "  </tbody>\n",
       "</table>\n",
       "</div>"
      ],
      "text/plain": [
       "    thresholds  max_depth  precision  recall  f1_score  auc_score\n",
       "6        0.400     10.000      0.658   0.866     0.748      0.797\n",
       "16       0.500     10.000      0.708   0.768     0.737      0.797\n",
       "7        0.400     15.000      0.663   0.856     0.747      0.791\n",
       "17       0.500     15.000      0.700   0.761     0.730      0.791\n",
       "4        0.400      5.000      0.642   0.875     0.741      0.789"
      ]
     },
     "execution_count": 245,
     "metadata": {},
     "output_type": "execute_result"
    }
   ],
   "source": [
    "df_scores.sort_values(by=[\"auc_score\", \"recall\"], ascending=False).head()"
   ]
  },
  {
   "cell_type": "markdown",
   "metadata": {},
   "source": [
    "The best results are with `threshold=0.4` and `max_depth=10`"
   ]
  },
  {
   "cell_type": "markdown",
   "metadata": {},
   "source": [
    "#### Tune `min_samples_leaf`"
   ]
  },
  {
   "cell_type": "code",
   "execution_count": 246,
   "metadata": {},
   "outputs": [],
   "source": [
    "scores = []\n",
    "for t in [0.4, 0.5]:\n",
    "    for d in [6, 10, 15]:\n",
    "        for s in [1, 2, 5, 10, 15, 20, 50, 100, 200, 500]:\n",
    "            rf = RandomForestClassifier(\n",
    "                n_estimators=10, \n",
    "                max_depth = d,\n",
    "                min_samples_leaf = s,\n",
    "                random_state=dp.seed)\n",
    "            rf.fit(X_train, y_train)\n",
    "            y_pred = rf.predict_proba(X_validate)[:, 1]\n",
    "            precision = precision_score(y_val, y_pred >= t)\n",
    "            recall = recall_score(y_val, y_pred >= t)\n",
    "            f1 = f1_score(y_val, y_pred >= t)\n",
    "            auc = roc_auc_score(y_val, y_pred)\n",
    "            scores.append((t, d, s, precision, recall, f1, auc))\n",
    "df_scores = pd.DataFrame(scores, columns=[\"thresholds\", \"max_depth\", \"min_samples_leaf\", \"precision\", \"recall\", \"f1_score\", \"auc_score\"])"
   ]
  },
  {
   "cell_type": "code",
   "execution_count": 250,
   "metadata": {},
   "outputs": [
    {
     "data": {
      "text/html": [
       "<div>\n",
       "<style scoped>\n",
       "    .dataframe tbody tr th:only-of-type {\n",
       "        vertical-align: middle;\n",
       "    }\n",
       "\n",
       "    .dataframe tbody tr th {\n",
       "        vertical-align: top;\n",
       "    }\n",
       "\n",
       "    .dataframe thead th {\n",
       "        text-align: right;\n",
       "    }\n",
       "</style>\n",
       "<table border=\"1\" class=\"dataframe\">\n",
       "  <thead>\n",
       "    <tr style=\"text-align: right;\">\n",
       "      <th></th>\n",
       "      <th>thresholds</th>\n",
       "      <th>max_depth</th>\n",
       "      <th>min_samples_leaf</th>\n",
       "      <th>precision</th>\n",
       "      <th>recall</th>\n",
       "      <th>f1_score</th>\n",
       "      <th>auc_score</th>\n",
       "    </tr>\n",
       "  </thead>\n",
       "  <tbody>\n",
       "    <tr>\n",
       "      <th>3</th>\n",
       "      <td>0.400</td>\n",
       "      <td>6</td>\n",
       "      <td>10</td>\n",
       "      <td>0.648</td>\n",
       "      <td>0.880</td>\n",
       "      <td>0.746</td>\n",
       "      <td>0.790</td>\n",
       "    </tr>\n",
       "    <tr>\n",
       "      <th>4</th>\n",
       "      <td>0.400</td>\n",
       "      <td>6</td>\n",
       "      <td>15</td>\n",
       "      <td>0.646</td>\n",
       "      <td>0.880</td>\n",
       "      <td>0.745</td>\n",
       "      <td>0.790</td>\n",
       "    </tr>\n",
       "    <tr>\n",
       "      <th>6</th>\n",
       "      <td>0.400</td>\n",
       "      <td>6</td>\n",
       "      <td>50</td>\n",
       "      <td>0.647</td>\n",
       "      <td>0.876</td>\n",
       "      <td>0.745</td>\n",
       "      <td>0.790</td>\n",
       "    </tr>\n",
       "  </tbody>\n",
       "</table>\n",
       "</div>"
      ],
      "text/plain": [
       "   thresholds  max_depth  min_samples_leaf  precision  recall  f1_score  \\\n",
       "3       0.400          6                10      0.648   0.880     0.746   \n",
       "4       0.400          6                15      0.646   0.880     0.745   \n",
       "6       0.400          6                50      0.647   0.876     0.745   \n",
       "\n",
       "   auc_score  \n",
       "3      0.790  \n",
       "4      0.790  \n",
       "6      0.790  "
      ]
     },
     "execution_count": 250,
     "metadata": {},
     "output_type": "execute_result"
    }
   ],
   "source": [
    "# sort by recall\n",
    "df_scores.sort_values(by=[\"recall\"], ascending=False).head(3)"
   ]
  },
  {
   "cell_type": "code",
   "execution_count": 251,
   "metadata": {},
   "outputs": [
    {
     "data": {
      "text/html": [
       "<div>\n",
       "<style scoped>\n",
       "    .dataframe tbody tr th:only-of-type {\n",
       "        vertical-align: middle;\n",
       "    }\n",
       "\n",
       "    .dataframe tbody tr th {\n",
       "        vertical-align: top;\n",
       "    }\n",
       "\n",
       "    .dataframe thead th {\n",
       "        text-align: right;\n",
       "    }\n",
       "</style>\n",
       "<table border=\"1\" class=\"dataframe\">\n",
       "  <thead>\n",
       "    <tr style=\"text-align: right;\">\n",
       "      <th></th>\n",
       "      <th>thresholds</th>\n",
       "      <th>max_depth</th>\n",
       "      <th>min_samples_leaf</th>\n",
       "      <th>precision</th>\n",
       "      <th>recall</th>\n",
       "      <th>f1_score</th>\n",
       "      <th>auc_score</th>\n",
       "    </tr>\n",
       "  </thead>\n",
       "  <tbody>\n",
       "    <tr>\n",
       "      <th>54</th>\n",
       "      <td>0.500</td>\n",
       "      <td>15</td>\n",
       "      <td>15</td>\n",
       "      <td>0.706</td>\n",
       "      <td>0.769</td>\n",
       "      <td>0.736</td>\n",
       "      <td>0.799</td>\n",
       "    </tr>\n",
       "    <tr>\n",
       "      <th>24</th>\n",
       "      <td>0.400</td>\n",
       "      <td>15</td>\n",
       "      <td>15</td>\n",
       "      <td>0.665</td>\n",
       "      <td>0.865</td>\n",
       "      <td>0.752</td>\n",
       "      <td>0.799</td>\n",
       "    </tr>\n",
       "    <tr>\n",
       "      <th>53</th>\n",
       "      <td>0.500</td>\n",
       "      <td>15</td>\n",
       "      <td>10</td>\n",
       "      <td>0.710</td>\n",
       "      <td>0.768</td>\n",
       "      <td>0.738</td>\n",
       "      <td>0.799</td>\n",
       "    </tr>\n",
       "  </tbody>\n",
       "</table>\n",
       "</div>"
      ],
      "text/plain": [
       "    thresholds  max_depth  min_samples_leaf  precision  recall  f1_score  \\\n",
       "54       0.500         15                15      0.706   0.769     0.736   \n",
       "24       0.400         15                15      0.665   0.865     0.752   \n",
       "53       0.500         15                10      0.710   0.768     0.738   \n",
       "\n",
       "    auc_score  \n",
       "54      0.799  \n",
       "24      0.799  \n",
       "53      0.799  "
      ]
     },
     "execution_count": 251,
     "metadata": {},
     "output_type": "execute_result"
    }
   ],
   "source": [
    "# sort by auc score\n",
    "df_scores.sort_values(\"auc_score\", ascending=False).head(3)"
   ]
  },
  {
   "cell_type": "markdown",
   "metadata": {},
   "source": [
    "#### Tune `min_samples_split`."
   ]
  },
  {
   "cell_type": "code",
   "execution_count": 256,
   "metadata": {},
   "outputs": [],
   "source": [
    "scores = []\n",
    "for t in [0.4, 0.5]:\n",
    "        for d in [6, 10, 15]:\n",
    "                for m in [10, 15]:\n",
    "                        for split in [0.1, 0.2, 0.3, 0.4, 0.5, 2, 4, 5, 10, 50, 100]:\n",
    "                                rf = RandomForestClassifier(\n",
    "                                        n_estimators=10, \n",
    "                                        max_depth = d,\n",
    "                                        min_samples_leaf = m,\n",
    "                                        min_samples_split=split,\n",
    "                                        random_state=dp.seed)\n",
    "                                rf.fit(X_train, y_train)\n",
    "                                y_pred = rf.predict_proba(X_validate)[:, 1]\n",
    "                                precision = precision_score(y_val, y_pred >= t)\n",
    "                                recall = recall_score(y_val, y_pred >= t)\n",
    "                                f1 = f1_score(y_val, y_pred >= t)\n",
    "                                auc = roc_auc_score(y_val, y_pred)\n",
    "                                scores.append((t, d, m, split, precision, recall, f1, auc))\n",
    "df_scores = pd.DataFrame(scores, columns=[\"threshold\", \"max_depth\", \"min_samples_leaf\", \"min_samples_split\", \"precision\", \"recall\", \"f1_score\", \"auc_score\"])"
   ]
  },
  {
   "cell_type": "code",
   "execution_count": 260,
   "metadata": {},
   "outputs": [
    {
     "data": {
      "text/html": [
       "<div>\n",
       "<style scoped>\n",
       "    .dataframe tbody tr th:only-of-type {\n",
       "        vertical-align: middle;\n",
       "    }\n",
       "\n",
       "    .dataframe tbody tr th {\n",
       "        vertical-align: top;\n",
       "    }\n",
       "\n",
       "    .dataframe thead th {\n",
       "        text-align: right;\n",
       "    }\n",
       "</style>\n",
       "<table border=\"1\" class=\"dataframe\">\n",
       "  <thead>\n",
       "    <tr style=\"text-align: right;\">\n",
       "      <th></th>\n",
       "      <th>threshold</th>\n",
       "      <th>max_depth</th>\n",
       "      <th>min_samples_leaf</th>\n",
       "      <th>min_samples_split</th>\n",
       "      <th>precision</th>\n",
       "      <th>recall</th>\n",
       "      <th>f1_score</th>\n",
       "      <th>auc_score</th>\n",
       "    </tr>\n",
       "  </thead>\n",
       "  <tbody>\n",
       "    <tr>\n",
       "      <th>48</th>\n",
       "      <td>0.400</td>\n",
       "      <td>15</td>\n",
       "      <td>10</td>\n",
       "      <td>0.500</td>\n",
       "      <td>0.598</td>\n",
       "      <td>0.905</td>\n",
       "      <td>0.720</td>\n",
       "      <td>0.757</td>\n",
       "    </tr>\n",
       "    <tr>\n",
       "      <th>59</th>\n",
       "      <td>0.400</td>\n",
       "      <td>15</td>\n",
       "      <td>15</td>\n",
       "      <td>0.500</td>\n",
       "      <td>0.598</td>\n",
       "      <td>0.905</td>\n",
       "      <td>0.720</td>\n",
       "      <td>0.757</td>\n",
       "    </tr>\n",
       "    <tr>\n",
       "      <th>26</th>\n",
       "      <td>0.400</td>\n",
       "      <td>10</td>\n",
       "      <td>10</td>\n",
       "      <td>0.500</td>\n",
       "      <td>0.598</td>\n",
       "      <td>0.905</td>\n",
       "      <td>0.720</td>\n",
       "      <td>0.757</td>\n",
       "    </tr>\n",
       "  </tbody>\n",
       "</table>\n",
       "</div>"
      ],
      "text/plain": [
       "    threshold  max_depth  min_samples_leaf  min_samples_split  precision  \\\n",
       "48      0.400         15                10              0.500      0.598   \n",
       "59      0.400         15                15              0.500      0.598   \n",
       "26      0.400         10                10              0.500      0.598   \n",
       "\n",
       "    recall  f1_score  auc_score  \n",
       "48   0.905     0.720      0.757  \n",
       "59   0.905     0.720      0.757  \n",
       "26   0.905     0.720      0.757  "
      ]
     },
     "execution_count": 260,
     "metadata": {},
     "output_type": "execute_result"
    }
   ],
   "source": [
    "df_scores.sort_values(by=[\"recall\"], ascending=False).head(3)"
   ]
  },
  {
   "cell_type": "code",
   "execution_count": 261,
   "metadata": {},
   "outputs": [
    {
     "data": {
      "text/html": [
       "<div>\n",
       "<style scoped>\n",
       "    .dataframe tbody tr th:only-of-type {\n",
       "        vertical-align: middle;\n",
       "    }\n",
       "\n",
       "    .dataframe tbody tr th {\n",
       "        vertical-align: top;\n",
       "    }\n",
       "\n",
       "    .dataframe thead th {\n",
       "        text-align: right;\n",
       "    }\n",
       "</style>\n",
       "<table border=\"1\" class=\"dataframe\">\n",
       "  <thead>\n",
       "    <tr style=\"text-align: right;\">\n",
       "      <th></th>\n",
       "      <th>threshold</th>\n",
       "      <th>max_depth</th>\n",
       "      <th>min_samples_leaf</th>\n",
       "      <th>min_samples_split</th>\n",
       "      <th>precision</th>\n",
       "      <th>recall</th>\n",
       "      <th>f1_score</th>\n",
       "      <th>auc_score</th>\n",
       "    </tr>\n",
       "  </thead>\n",
       "  <tbody>\n",
       "    <tr>\n",
       "      <th>62</th>\n",
       "      <td>0.400</td>\n",
       "      <td>15</td>\n",
       "      <td>15</td>\n",
       "      <td>5.000</td>\n",
       "      <td>0.665</td>\n",
       "      <td>0.865</td>\n",
       "      <td>0.752</td>\n",
       "      <td>0.799</td>\n",
       "    </tr>\n",
       "    <tr>\n",
       "      <th>127</th>\n",
       "      <td>0.500</td>\n",
       "      <td>15</td>\n",
       "      <td>15</td>\n",
       "      <td>4.000</td>\n",
       "      <td>0.706</td>\n",
       "      <td>0.769</td>\n",
       "      <td>0.736</td>\n",
       "      <td>0.799</td>\n",
       "    </tr>\n",
       "    <tr>\n",
       "      <th>129</th>\n",
       "      <td>0.500</td>\n",
       "      <td>15</td>\n",
       "      <td>15</td>\n",
       "      <td>10.000</td>\n",
       "      <td>0.706</td>\n",
       "      <td>0.769</td>\n",
       "      <td>0.736</td>\n",
       "      <td>0.799</td>\n",
       "    </tr>\n",
       "  </tbody>\n",
       "</table>\n",
       "</div>"
      ],
      "text/plain": [
       "     threshold  max_depth  min_samples_leaf  min_samples_split  precision  \\\n",
       "62       0.400         15                15              5.000      0.665   \n",
       "127      0.500         15                15              4.000      0.706   \n",
       "129      0.500         15                15             10.000      0.706   \n",
       "\n",
       "     recall  f1_score  auc_score  \n",
       "62    0.865     0.752      0.799  \n",
       "127   0.769     0.736      0.799  \n",
       "129   0.769     0.736      0.799  "
      ]
     },
     "execution_count": 261,
     "metadata": {},
     "output_type": "execute_result"
    }
   ],
   "source": [
    "df_scores.sort_values(\"auc_score\", ascending=False).head(3)"
   ]
  },
  {
   "cell_type": "code",
   "execution_count": 262,
   "metadata": {},
   "outputs": [
    {
     "data": {
      "text/html": [
       "<div>\n",
       "<style scoped>\n",
       "    .dataframe tbody tr th:only-of-type {\n",
       "        vertical-align: middle;\n",
       "    }\n",
       "\n",
       "    .dataframe tbody tr th {\n",
       "        vertical-align: top;\n",
       "    }\n",
       "\n",
       "    .dataframe thead th {\n",
       "        text-align: right;\n",
       "    }\n",
       "</style>\n",
       "<table border=\"1\" class=\"dataframe\">\n",
       "  <thead>\n",
       "    <tr style=\"text-align: right;\">\n",
       "      <th></th>\n",
       "      <th>threshold</th>\n",
       "      <th>max_depth</th>\n",
       "      <th>min_samples_leaf</th>\n",
       "      <th>min_samples_split</th>\n",
       "      <th>precision</th>\n",
       "      <th>recall</th>\n",
       "      <th>f1_score</th>\n",
       "      <th>auc_score</th>\n",
       "    </tr>\n",
       "  </thead>\n",
       "  <tbody>\n",
       "    <tr>\n",
       "      <th>60</th>\n",
       "      <td>0.400</td>\n",
       "      <td>15</td>\n",
       "      <td>15</td>\n",
       "      <td>2.000</td>\n",
       "      <td>0.665</td>\n",
       "      <td>0.865</td>\n",
       "      <td>0.752</td>\n",
       "      <td>0.799</td>\n",
       "    </tr>\n",
       "    <tr>\n",
       "      <th>61</th>\n",
       "      <td>0.400</td>\n",
       "      <td>15</td>\n",
       "      <td>15</td>\n",
       "      <td>4.000</td>\n",
       "      <td>0.665</td>\n",
       "      <td>0.865</td>\n",
       "      <td>0.752</td>\n",
       "      <td>0.799</td>\n",
       "    </tr>\n",
       "    <tr>\n",
       "      <th>62</th>\n",
       "      <td>0.400</td>\n",
       "      <td>15</td>\n",
       "      <td>15</td>\n",
       "      <td>5.000</td>\n",
       "      <td>0.665</td>\n",
       "      <td>0.865</td>\n",
       "      <td>0.752</td>\n",
       "      <td>0.799</td>\n",
       "    </tr>\n",
       "  </tbody>\n",
       "</table>\n",
       "</div>"
      ],
      "text/plain": [
       "    threshold  max_depth  min_samples_leaf  min_samples_split  precision  \\\n",
       "60      0.400         15                15              2.000      0.665   \n",
       "61      0.400         15                15              4.000      0.665   \n",
       "62      0.400         15                15              5.000      0.665   \n",
       "\n",
       "    recall  f1_score  auc_score  \n",
       "60   0.865     0.752      0.799  \n",
       "61   0.865     0.752      0.799  \n",
       "62   0.865     0.752      0.799  "
      ]
     },
     "execution_count": 262,
     "metadata": {},
     "output_type": "execute_result"
    }
   ],
   "source": [
    "df_scores.sort_values(by=\"f1_score\", ascending=False).head(3)"
   ]
  },
  {
   "cell_type": "markdown",
   "metadata": {},
   "source": [
    "Although some models return almost ideal recall (`0.9`), their precision score is very low (`0.6`). This means that almost half of the people identified as sick with diabetes are falsely identified. `min_samples_split = 0.5` should not be used for next model tuning."
   ]
  },
  {
   "cell_type": "markdown",
   "metadata": {},
   "source": [
    "####  Tune `n_estimators`"
   ]
  },
  {
   "cell_type": "code",
   "execution_count": 274,
   "metadata": {},
   "outputs": [],
   "source": [
    "scores = []\n",
    "t = 0.4 # threshold\n",
    "for d in [6, 10, 15]:\n",
    "        for m in [10, 15]:\n",
    "                for split in [2, 5]:\n",
    "                        for n in [5, 10, 15, 20, 50, 100, 200, 500]:\n",
    "                                rf = RandomForestClassifier(\n",
    "                                        n_estimators=n, \n",
    "                                        max_depth = d,\n",
    "                                        min_samples_leaf = m,\n",
    "                                        min_samples_split=split,\n",
    "                                        n_jobs=-1, # speed up the process\n",
    "                                        random_state=dp.seed)\n",
    "                                rf.fit(X_train, y_train)\n",
    "                                y_pred = rf.predict_proba(X_validate)[:, 1]\n",
    "                                precision = precision_score(y_val, y_pred >= t)\n",
    "                                recall = recall_score(y_val, y_pred >= t)\n",
    "                                f1 = f1_score(y_val, y_pred >= t)\n",
    "                                auc = roc_auc_score(y_val, y_pred)\n",
    "                                scores.append((d, m, split, n, precision, recall, f1, auc))\n",
    "df_scores = pd.DataFrame(scores, columns=[\"max_depth\", \"min_samples_leaf\", \"min_samples_split\", \"n_estimators\", \"precision\", \"recall\", \"f1_score\", \"auc_score\"])"
   ]
  },
  {
   "cell_type": "code",
   "execution_count": 278,
   "metadata": {},
   "outputs": [
    {
     "data": {
      "text/html": [
       "<div>\n",
       "<style scoped>\n",
       "    .dataframe tbody tr th:only-of-type {\n",
       "        vertical-align: middle;\n",
       "    }\n",
       "\n",
       "    .dataframe tbody tr th {\n",
       "        vertical-align: top;\n",
       "    }\n",
       "\n",
       "    .dataframe thead th {\n",
       "        text-align: right;\n",
       "    }\n",
       "</style>\n",
       "<table border=\"1\" class=\"dataframe\">\n",
       "  <thead>\n",
       "    <tr style=\"text-align: right;\">\n",
       "      <th></th>\n",
       "      <th>max_depth</th>\n",
       "      <th>min_samples_leaf</th>\n",
       "      <th>min_samples_split</th>\n",
       "      <th>n_estimators</th>\n",
       "      <th>precision</th>\n",
       "      <th>recall</th>\n",
       "      <th>f1_score</th>\n",
       "      <th>auc_score</th>\n",
       "    </tr>\n",
       "  </thead>\n",
       "  <tbody>\n",
       "    <tr>\n",
       "      <th>28</th>\n",
       "      <td>6</td>\n",
       "      <td>15</td>\n",
       "      <td>5</td>\n",
       "      <td>50</td>\n",
       "      <td>0.644</td>\n",
       "      <td>0.886</td>\n",
       "      <td>0.746</td>\n",
       "      <td>0.793</td>\n",
       "    </tr>\n",
       "    <tr>\n",
       "      <th>20</th>\n",
       "      <td>6</td>\n",
       "      <td>15</td>\n",
       "      <td>2</td>\n",
       "      <td>50</td>\n",
       "      <td>0.644</td>\n",
       "      <td>0.886</td>\n",
       "      <td>0.746</td>\n",
       "      <td>0.793</td>\n",
       "    </tr>\n",
       "    <tr>\n",
       "      <th>30</th>\n",
       "      <td>6</td>\n",
       "      <td>15</td>\n",
       "      <td>5</td>\n",
       "      <td>200</td>\n",
       "      <td>0.644</td>\n",
       "      <td>0.885</td>\n",
       "      <td>0.745</td>\n",
       "      <td>0.793</td>\n",
       "    </tr>\n",
       "  </tbody>\n",
       "</table>\n",
       "</div>"
      ],
      "text/plain": [
       "    max_depth  min_samples_leaf  min_samples_split  n_estimators  precision  \\\n",
       "28          6                15                  5            50      0.644   \n",
       "20          6                15                  2            50      0.644   \n",
       "30          6                15                  5           200      0.644   \n",
       "\n",
       "    recall  f1_score  auc_score  \n",
       "28   0.886     0.746      0.793  \n",
       "20   0.886     0.746      0.793  \n",
       "30   0.885     0.745      0.793  "
      ]
     },
     "execution_count": 278,
     "metadata": {},
     "output_type": "execute_result"
    }
   ],
   "source": [
    "df_scores.sort_values(\"recall\", ascending=False).head(3)"
   ]
  },
  {
   "cell_type": "code",
   "execution_count": 281,
   "metadata": {},
   "outputs": [
    {
     "data": {
      "text/html": [
       "<div>\n",
       "<style scoped>\n",
       "    .dataframe tbody tr th:only-of-type {\n",
       "        vertical-align: middle;\n",
       "    }\n",
       "\n",
       "    .dataframe tbody tr th {\n",
       "        vertical-align: top;\n",
       "    }\n",
       "\n",
       "    .dataframe thead th {\n",
       "        text-align: right;\n",
       "    }\n",
       "</style>\n",
       "<table border=\"1\" class=\"dataframe\">\n",
       "  <thead>\n",
       "    <tr style=\"text-align: right;\">\n",
       "      <th></th>\n",
       "      <th>max_depth</th>\n",
       "      <th>min_samples_leaf</th>\n",
       "      <th>min_samples_split</th>\n",
       "      <th>n_estimators</th>\n",
       "      <th>precision</th>\n",
       "      <th>recall</th>\n",
       "      <th>f1_score</th>\n",
       "      <th>auc_score</th>\n",
       "    </tr>\n",
       "  </thead>\n",
       "  <tbody>\n",
       "    <tr>\n",
       "      <th>76</th>\n",
       "      <td>15</td>\n",
       "      <td>10</td>\n",
       "      <td>5</td>\n",
       "      <td>50</td>\n",
       "      <td>0.667</td>\n",
       "      <td>0.868</td>\n",
       "      <td>0.754</td>\n",
       "      <td>0.802</td>\n",
       "    </tr>\n",
       "    <tr>\n",
       "      <th>68</th>\n",
       "      <td>15</td>\n",
       "      <td>10</td>\n",
       "      <td>2</td>\n",
       "      <td>50</td>\n",
       "      <td>0.667</td>\n",
       "      <td>0.868</td>\n",
       "      <td>0.754</td>\n",
       "      <td>0.802</td>\n",
       "    </tr>\n",
       "    <tr>\n",
       "      <th>69</th>\n",
       "      <td>15</td>\n",
       "      <td>10</td>\n",
       "      <td>2</td>\n",
       "      <td>100</td>\n",
       "      <td>0.664</td>\n",
       "      <td>0.872</td>\n",
       "      <td>0.754</td>\n",
       "      <td>0.802</td>\n",
       "    </tr>\n",
       "  </tbody>\n",
       "</table>\n",
       "</div>"
      ],
      "text/plain": [
       "    max_depth  min_samples_leaf  min_samples_split  n_estimators  precision  \\\n",
       "76         15                10                  5            50      0.667   \n",
       "68         15                10                  2            50      0.667   \n",
       "69         15                10                  2           100      0.664   \n",
       "\n",
       "    recall  f1_score  auc_score  \n",
       "76   0.868     0.754      0.802  \n",
       "68   0.868     0.754      0.802  \n",
       "69   0.872     0.754      0.802  "
      ]
     },
     "execution_count": 281,
     "metadata": {},
     "output_type": "execute_result"
    }
   ],
   "source": [
    "df_scores.sort_values(\"f1_score\", ascending=False).head(3)"
   ]
  },
  {
   "cell_type": "code",
   "execution_count": 280,
   "metadata": {},
   "outputs": [
    {
     "data": {
      "text/html": [
       "<div>\n",
       "<style scoped>\n",
       "    .dataframe tbody tr th:only-of-type {\n",
       "        vertical-align: middle;\n",
       "    }\n",
       "\n",
       "    .dataframe tbody tr th {\n",
       "        vertical-align: top;\n",
       "    }\n",
       "\n",
       "    .dataframe thead th {\n",
       "        text-align: right;\n",
       "    }\n",
       "</style>\n",
       "<table border=\"1\" class=\"dataframe\">\n",
       "  <thead>\n",
       "    <tr style=\"text-align: right;\">\n",
       "      <th></th>\n",
       "      <th>max_depth</th>\n",
       "      <th>min_samples_leaf</th>\n",
       "      <th>min_samples_split</th>\n",
       "      <th>n_estimators</th>\n",
       "      <th>precision</th>\n",
       "      <th>recall</th>\n",
       "      <th>f1_score</th>\n",
       "      <th>auc_score</th>\n",
       "    </tr>\n",
       "  </thead>\n",
       "  <tbody>\n",
       "    <tr>\n",
       "      <th>77</th>\n",
       "      <td>15</td>\n",
       "      <td>10</td>\n",
       "      <td>5</td>\n",
       "      <td>100</td>\n",
       "      <td>0.664</td>\n",
       "      <td>0.872</td>\n",
       "      <td>0.754</td>\n",
       "      <td>0.802</td>\n",
       "    </tr>\n",
       "    <tr>\n",
       "      <th>69</th>\n",
       "      <td>15</td>\n",
       "      <td>10</td>\n",
       "      <td>2</td>\n",
       "      <td>100</td>\n",
       "      <td>0.664</td>\n",
       "      <td>0.872</td>\n",
       "      <td>0.754</td>\n",
       "      <td>0.802</td>\n",
       "    </tr>\n",
       "    <tr>\n",
       "      <th>76</th>\n",
       "      <td>15</td>\n",
       "      <td>10</td>\n",
       "      <td>5</td>\n",
       "      <td>50</td>\n",
       "      <td>0.667</td>\n",
       "      <td>0.868</td>\n",
       "      <td>0.754</td>\n",
       "      <td>0.802</td>\n",
       "    </tr>\n",
       "  </tbody>\n",
       "</table>\n",
       "</div>"
      ],
      "text/plain": [
       "    max_depth  min_samples_leaf  min_samples_split  n_estimators  precision  \\\n",
       "77         15                10                  5           100      0.664   \n",
       "69         15                10                  2           100      0.664   \n",
       "76         15                10                  5            50      0.667   \n",
       "\n",
       "    recall  f1_score  auc_score  \n",
       "77   0.872     0.754      0.802  \n",
       "69   0.872     0.754      0.802  \n",
       "76   0.868     0.754      0.802  "
      ]
     },
     "execution_count": 280,
     "metadata": {},
     "output_type": "execute_result"
    }
   ],
   "source": [
    "df_scores.sort_values(\"auc_score\", ascending=False).head(3)"
   ]
  },
  {
   "cell_type": "code",
   "execution_count": 286,
   "metadata": {},
   "outputs": [],
   "source": [
    "scores = []\n",
    "for n in  [50, 60, 70, 80, 90, 100]:\n",
    "    rf = RandomForestClassifier(\n",
    "            n_estimators=n, \n",
    "            max_depth = 15,\n",
    "            min_samples_leaf = 10,\n",
    "            min_samples_split=5,\n",
    "            n_jobs=-1, # speed up the process\n",
    "            random_state=dp.seed)\n",
    "    rf.fit(X_train, y_train)\n",
    "    y_pred = rf.predict_proba(X_validate)[:, 1]\n",
    "    precision = precision_score(y_val, y_pred >= t)\n",
    "    recall = recall_score(y_val, y_pred >= t)\n",
    "    f1 = f1_score(y_val, y_pred >= t)\n",
    "    auc = roc_auc_score(y_val, y_pred)\n",
    "    scores.append((n, precision, recall, f1, auc))\n",
    "df_scores = pd.DataFrame(scores, columns=[\"n_estimators\", \"precision\", \"recall\", \"f1_score\", \"auc_score\"])"
   ]
  },
  {
   "cell_type": "code",
   "execution_count": 287,
   "metadata": {},
   "outputs": [
    {
     "data": {
      "text/html": [
       "<div>\n",
       "<style scoped>\n",
       "    .dataframe tbody tr th:only-of-type {\n",
       "        vertical-align: middle;\n",
       "    }\n",
       "\n",
       "    .dataframe tbody tr th {\n",
       "        vertical-align: top;\n",
       "    }\n",
       "\n",
       "    .dataframe thead th {\n",
       "        text-align: right;\n",
       "    }\n",
       "</style>\n",
       "<table border=\"1\" class=\"dataframe\">\n",
       "  <thead>\n",
       "    <tr style=\"text-align: right;\">\n",
       "      <th></th>\n",
       "      <th>n_estimators</th>\n",
       "      <th>precision</th>\n",
       "      <th>recall</th>\n",
       "      <th>f1_score</th>\n",
       "      <th>auc_score</th>\n",
       "    </tr>\n",
       "  </thead>\n",
       "  <tbody>\n",
       "    <tr>\n",
       "      <th>0</th>\n",
       "      <td>50</td>\n",
       "      <td>0.667</td>\n",
       "      <td>0.868</td>\n",
       "      <td>0.754</td>\n",
       "      <td>0.802</td>\n",
       "    </tr>\n",
       "    <tr>\n",
       "      <th>1</th>\n",
       "      <td>60</td>\n",
       "      <td>0.665</td>\n",
       "      <td>0.870</td>\n",
       "      <td>0.754</td>\n",
       "      <td>0.802</td>\n",
       "    </tr>\n",
       "    <tr>\n",
       "      <th>2</th>\n",
       "      <td>70</td>\n",
       "      <td>0.664</td>\n",
       "      <td>0.869</td>\n",
       "      <td>0.753</td>\n",
       "      <td>0.802</td>\n",
       "    </tr>\n",
       "    <tr>\n",
       "      <th>3</th>\n",
       "      <td>80</td>\n",
       "      <td>0.664</td>\n",
       "      <td>0.871</td>\n",
       "      <td>0.754</td>\n",
       "      <td>0.802</td>\n",
       "    </tr>\n",
       "    <tr>\n",
       "      <th>4</th>\n",
       "      <td>90</td>\n",
       "      <td>0.663</td>\n",
       "      <td>0.871</td>\n",
       "      <td>0.753</td>\n",
       "      <td>0.802</td>\n",
       "    </tr>\n",
       "    <tr>\n",
       "      <th>5</th>\n",
       "      <td>100</td>\n",
       "      <td>0.664</td>\n",
       "      <td>0.872</td>\n",
       "      <td>0.754</td>\n",
       "      <td>0.802</td>\n",
       "    </tr>\n",
       "  </tbody>\n",
       "</table>\n",
       "</div>"
      ],
      "text/plain": [
       "   n_estimators  precision  recall  f1_score  auc_score\n",
       "0            50      0.667   0.868     0.754      0.802\n",
       "1            60      0.665   0.870     0.754      0.802\n",
       "2            70      0.664   0.869     0.753      0.802\n",
       "3            80      0.664   0.871     0.754      0.802\n",
       "4            90      0.663   0.871     0.753      0.802\n",
       "5           100      0.664   0.872     0.754      0.802"
      ]
     },
     "execution_count": 287,
     "metadata": {},
     "output_type": "execute_result"
    }
   ],
   "source": [
    "df_scores"
   ]
  },
  {
   "cell_type": "markdown",
   "metadata": {},
   "source": [
    "The best parameters are:\n",
    "- `n_estimators = 100`\n",
    "- `max_depth = 15`\n",
    "- `min_samples_leaf = 10`\n",
    "- `min_samples_split = 5`\n",
    "\n",
    "Create the best Random Forest model and print the classification report."
   ]
  },
  {
   "cell_type": "code",
   "execution_count": 301,
   "metadata": {},
   "outputs": [
    {
     "name": "stdout",
     "output_type": "stream",
     "text": [
      "              precision    recall  f1-score\n",
      "\n",
      "           1       0.66      0.87      0.75\n",
      "\n",
      "    accuracy                           0.72\n",
      "         auc                           0.8\n"
     ]
    }
   ],
   "source": [
    "rf = RandomForestClassifier(\n",
    "        n_estimators=100, \n",
    "        max_depth = 15,\n",
    "        min_samples_leaf = 10,\n",
    "        min_samples_split=5,\n",
    "        n_jobs=-1, # speed up the process\n",
    "        random_state=dp.seed)\n",
    "rf.fit(X_train, y_train)\n",
    "y_pred = rf.predict_proba(X_validate)[:, 1]\n",
    "print(md.get_report(y_val, y_pred, threshold=0.4))"
   ]
  },
  {
   "cell_type": "markdown",
   "metadata": {},
   "source": [
    "<div class=\"alert alert-success\">\n",
    "\n",
    "### Tuning XGBoost"
   ]
  },
  {
   "cell_type": "code",
   "execution_count": 302,
   "metadata": {},
   "outputs": [],
   "source": [
    "features = dp.get_X_ohe(train, validate, test, get_features=True)\n",
    "dtrain = xgb.DMatrix(X_train, label=y_train, feature_names=features)\n",
    "dval = xgb.DMatrix(X_validate, label=y_val, feature_names=features)"
   ]
  },
  {
   "cell_type": "code",
   "execution_count": 303,
   "metadata": {},
   "outputs": [],
   "source": [
    "# set parameters to pass to xgboost\n",
    "xgb_params = {\n",
    "    'eta': 0.3, # learning rate\n",
    "    'max_depth': 6,\n",
    "    'min_child_weight': 1, # min_samples_leaf\n",
    "\n",
    "    'objective': 'binary:logistic', # specify that we have a binary classification model\n",
    "    'eval_metric': 'auc',\n",
    "    'nthread': 8,\n",
    "    'seed': dp.seed,\n",
    "    'verbosity': 1 # show the process 0, 1, 2\n",
    "}"
   ]
  },
  {
   "cell_type": "code",
   "execution_count": 304,
   "metadata": {},
   "outputs": [
    {
     "name": "stdout",
     "output_type": "stream",
     "text": [
      "              precision    recall  f1-score\n",
      "\n",
      "           1       0.71      0.77      0.74\n",
      "\n",
      "    accuracy                           0.73\n",
      "         auc                           0.8\n"
     ]
    }
   ],
   "source": [
    "model = xgb.train(xgb_params, dtrain, num_boost_round=20)\n",
    "# check predictions with treshold 0.5\n",
    "y_pred = model.predict(dval)\n",
    "print(md.get_report(y_val, y_pred))\n"
   ]
  },
  {
   "cell_type": "code",
   "execution_count": 307,
   "metadata": {},
   "outputs": [
    {
     "name": "stdout",
     "output_type": "stream",
     "text": [
      "              precision    recall  f1-score\n",
      "\n",
      "           1       0.69      0.82      0.75\n",
      "\n",
      "    accuracy                           0.73\n",
      "         auc                           0.8\n"
     ]
    }
   ],
   "source": [
    "# check predictions with threshold 0.45\n",
    "y_pred = model.predict(dval)\n",
    "print(md.get_report(y_val, y_pred, threshold = 0.45))"
   ]
  },
  {
   "cell_type": "code",
   "execution_count": 306,
   "metadata": {},
   "outputs": [
    {
     "name": "stdout",
     "output_type": "stream",
     "text": [
      "              precision    recall  f1-score\n",
      "\n",
      "           1       0.67      0.86      0.75\n",
      "\n",
      "    accuracy                           0.72\n",
      "         auc                           0.8\n"
     ]
    }
   ],
   "source": [
    "# check predictions with threshold 0.4\n",
    "y_pred = model.predict(dval)\n",
    "print(md.get_report(y_val, y_pred, threshold = 0.4))"
   ]
  },
  {
   "cell_type": "markdown",
   "metadata": {},
   "source": [
    "XGBoost with starting parameters and threshold set to 0.4 gives the almost the same recall, precision and f1 scores as the best Random Forest model. Let's see if tuning parameters can improve the score."
   ]
  },
  {
   "cell_type": "code",
   "execution_count": 308,
   "metadata": {},
   "outputs": [],
   "source": [
    "# create a watchlist for the xgboost model to see the score change\n",
    "watchlist = [(dtrain, 'train'), (dval, 'val')]"
   ]
  },
  {
   "cell_type": "code",
   "execution_count": 316,
   "metadata": {},
   "outputs": [],
   "source": [
    "%%capture output\n",
    "model = xgb.train(xgb_params, \n",
    "                    dtrain, \n",
    "                    evals=watchlist, # to print train and val sets auc score\n",
    "                    verbose_eval = 5, # to print out only every 5th step\n",
    "                    num_boost_round=200)"
   ]
  },
  {
   "cell_type": "code",
   "execution_count": 320,
   "metadata": {},
   "outputs": [
    {
     "data": {
      "text/html": [
       "<div>\n",
       "<style scoped>\n",
       "    .dataframe tbody tr th:only-of-type {\n",
       "        vertical-align: middle;\n",
       "    }\n",
       "\n",
       "    .dataframe tbody tr th {\n",
       "        vertical-align: top;\n",
       "    }\n",
       "\n",
       "    .dataframe thead th {\n",
       "        text-align: right;\n",
       "    }\n",
       "</style>\n",
       "<table border=\"1\" class=\"dataframe\">\n",
       "  <thead>\n",
       "    <tr style=\"text-align: right;\">\n",
       "      <th></th>\n",
       "      <th>iteration</th>\n",
       "      <th>train_score</th>\n",
       "      <th>validation_score</th>\n",
       "      <th>score_diff</th>\n",
       "    </tr>\n",
       "  </thead>\n",
       "  <tbody>\n",
       "    <tr>\n",
       "      <th>0</th>\n",
       "      <td>0</td>\n",
       "      <td>0.776</td>\n",
       "      <td>0.776</td>\n",
       "      <td>-0.001</td>\n",
       "    </tr>\n",
       "    <tr>\n",
       "      <th>1</th>\n",
       "      <td>5</td>\n",
       "      <td>0.799</td>\n",
       "      <td>0.797</td>\n",
       "      <td>0.002</td>\n",
       "    </tr>\n",
       "    <tr>\n",
       "      <th>2</th>\n",
       "      <td>10</td>\n",
       "      <td>0.807</td>\n",
       "      <td>0.800</td>\n",
       "      <td>0.007</td>\n",
       "    </tr>\n",
       "    <tr>\n",
       "      <th>3</th>\n",
       "      <td>15</td>\n",
       "      <td>0.811</td>\n",
       "      <td>0.801</td>\n",
       "      <td>0.010</td>\n",
       "    </tr>\n",
       "    <tr>\n",
       "      <th>4</th>\n",
       "      <td>20</td>\n",
       "      <td>0.815</td>\n",
       "      <td>0.801</td>\n",
       "      <td>0.014</td>\n",
       "    </tr>\n",
       "  </tbody>\n",
       "</table>\n",
       "</div>"
      ],
      "text/plain": [
       "   iteration  train_score  validation_score  score_diff\n",
       "0          0        0.776             0.776      -0.001\n",
       "1          5        0.799             0.797       0.002\n",
       "2         10        0.807             0.800       0.007\n",
       "3         15        0.811             0.801       0.010\n",
       "4         20        0.815             0.801       0.014"
      ]
     },
     "execution_count": 320,
     "metadata": {},
     "output_type": "execute_result"
    }
   ],
   "source": [
    "xgb_scores = md.parse_xgb_output(output)\n",
    "xgb_scores.sort_values(by='score_diff').head()"
   ]
  },
  {
   "cell_type": "code",
   "execution_count": 322,
   "metadata": {},
   "outputs": [
    {
     "data": {
      "image/png": "[encoded data removed]",
      "text/plain": [
       "<Figure size 640x480 with 1 Axes>"
      ]
     },
     "metadata": {
      "image/png": {
       "height": 454,
       "width": 576
      }
     },
     "output_type": "display_data"
    }
   ],
   "source": [
    "plt.plot(xgb_scores.iteration, xgb_scores.train_score, label='train')\n",
    "plt.plot(xgb_scores.iteration, xgb_scores.validation_score, label='validation')\n",
    "plt.xlabel(\"Iteration\")\n",
    "plt.ylabel(\"AUC score\")\n",
    "plt.title(\"Train and validation scores\")\n",
    "plt.legend()\n",
    "plt.show()"
   ]
  },
  {
   "cell_type": "code",
   "execution_count": 314,
   "metadata": {},
   "outputs": [],
   "source": [
    "# it has good validation score and smaller difference between train and validation score\n",
    "# means the model has less chances to overfit\n",
    "num_boost_round=10"
   ]
  },
  {
   "cell_type": "code",
   "execution_count": 323,
   "metadata": {},
   "outputs": [
    {
     "name": "stdout",
     "output_type": "stream",
     "text": [
      "[0]\ttrain-auc:0.77567\tval-auc:0.77648\n",
      "[5]\ttrain-auc:0.79904\tval-auc:0.79690\n",
      "[10]\ttrain-auc:0.80690\tval-auc:0.79996\n",
      "[14]\ttrain-auc:0.81058\tval-auc:0.80104\n"
     ]
    }
   ],
   "source": [
    "model = xgb.train(xgb_params, \n",
    "                    dtrain, \n",
    "                    evals=watchlist,\n",
    "                    verbose_eval = 5,\n",
    "                    num_boost_round=num_boost_round)"
   ]
  },
  {
   "cell_type": "code",
   "execution_count": 325,
   "metadata": {},
   "outputs": [
    {
     "name": "stdout",
     "output_type": "stream",
     "text": [
      "              precision    recall  f1-score\n",
      "\n",
      "           1       0.71      0.77      0.74\n",
      "\n",
      "    accuracy                           0.73\n",
      "         auc                           0.8\n"
     ]
    }
   ],
   "source": [
    "y_pred = model.predict(dval)\n",
    "print(md.get_report(y_val, y_pred))"
   ]
  },
  {
   "cell_type": "code",
   "execution_count": 326,
   "metadata": {},
   "outputs": [
    {
     "name": "stdout",
     "output_type": "stream",
     "text": [
      "              precision    recall  f1-score\n",
      "\n",
      "           1       0.67      0.86      0.75\n",
      "\n",
      "    accuracy                           0.72\n",
      "         auc                           0.8\n"
     ]
    }
   ],
   "source": [
    "print(md.get_report(y_val, y_pred, threshold=0.4))"
   ]
  },
  {
   "cell_type": "markdown",
   "metadata": {},
   "source": [
    "#### Tune learning rate `eta`."
   ]
  },
  {
   "cell_type": "code",
   "execution_count": 340,
   "metadata": {},
   "outputs": [],
   "source": [
    "scores = []\n",
    "for t in [0.4, 0.5]:\n",
    "    for eta in [0.001, 0.1, 0.3, 0.5, 0.7, 1]:\n",
    "        xgb_params = {\n",
    "                'eta': eta, # learning rate\n",
    "                'max_depth': 6,\n",
    "                'min_child_weight': 1, # min_samples_leaf\n",
    "\n",
    "                'objective': 'binary:logistic', # specify that we have a binary classification model\n",
    "                'eval_metric': 'auc',\n",
    "                'nthread': 8,\n",
    "                'seed': dp.seed,\n",
    "                'verbosity': 1 # show the process 0, 1, 2\n",
    "        }\n",
    "        model = xgb.train(xgb_params, dtrain, num_boost_round=10)\n",
    "        y_pred = model.predict(dval)\n",
    "        precision = precision_score(y_val, y_pred >= t)\n",
    "        recall = recall_score(y_val, y_pred >= t)\n",
    "        f1 = f1_score(y_val, y_pred >= t)\n",
    "        auc = roc_auc_score(y_val, y_pred)\n",
    "        scores.append((t, eta, precision, recall, f1, auc))\n",
    "df_scores = pd.DataFrame(scores, columns=[\"thresholds\", \"eta\", \"precision\", \"recall\", \"f1_score\", \"auc_score\"])"
   ]
  },
  {
   "cell_type": "code",
   "execution_count": 341,
   "metadata": {},
   "outputs": [
    {
     "data": {
      "text/html": [
       "<div>\n",
       "<style scoped>\n",
       "    .dataframe tbody tr th:only-of-type {\n",
       "        vertical-align: middle;\n",
       "    }\n",
       "\n",
       "    .dataframe tbody tr th {\n",
       "        vertical-align: top;\n",
       "    }\n",
       "\n",
       "    .dataframe thead th {\n",
       "        text-align: right;\n",
       "    }\n",
       "</style>\n",
       "<table border=\"1\" class=\"dataframe\">\n",
       "  <thead>\n",
       "    <tr style=\"text-align: right;\">\n",
       "      <th></th>\n",
       "      <th>thresholds</th>\n",
       "      <th>eta</th>\n",
       "      <th>precision</th>\n",
       "      <th>recall</th>\n",
       "      <th>f1_score</th>\n",
       "      <th>auc_score</th>\n",
       "    </tr>\n",
       "  </thead>\n",
       "  <tbody>\n",
       "    <tr>\n",
       "      <th>0</th>\n",
       "      <td>0.400</td>\n",
       "      <td>0.001</td>\n",
       "      <td>0.497</td>\n",
       "      <td>1.000</td>\n",
       "      <td>0.664</td>\n",
       "      <td>0.777</td>\n",
       "    </tr>\n",
       "    <tr>\n",
       "      <th>1</th>\n",
       "      <td>0.400</td>\n",
       "      <td>0.100</td>\n",
       "      <td>0.640</td>\n",
       "      <td>0.891</td>\n",
       "      <td>0.744</td>\n",
       "      <td>0.793</td>\n",
       "    </tr>\n",
       "    <tr>\n",
       "      <th>2</th>\n",
       "      <td>0.400</td>\n",
       "      <td>0.300</td>\n",
       "      <td>0.666</td>\n",
       "      <td>0.865</td>\n",
       "      <td>0.753</td>\n",
       "      <td>0.800</td>\n",
       "    </tr>\n",
       "    <tr>\n",
       "      <th>2</th>\n",
       "      <td>0.400</td>\n",
       "      <td>0.300</td>\n",
       "      <td>0.666</td>\n",
       "      <td>0.865</td>\n",
       "      <td>0.753</td>\n",
       "      <td>0.800</td>\n",
       "    </tr>\n",
       "    <tr>\n",
       "      <th>3</th>\n",
       "      <td>0.400</td>\n",
       "      <td>0.500</td>\n",
       "      <td>0.670</td>\n",
       "      <td>0.856</td>\n",
       "      <td>0.752</td>\n",
       "      <td>0.799</td>\n",
       "    </tr>\n",
       "    <tr>\n",
       "      <th>4</th>\n",
       "      <td>0.400</td>\n",
       "      <td>0.700</td>\n",
       "      <td>0.670</td>\n",
       "      <td>0.857</td>\n",
       "      <td>0.752</td>\n",
       "      <td>0.797</td>\n",
       "    </tr>\n",
       "    <tr>\n",
       "      <th>2</th>\n",
       "      <td>0.400</td>\n",
       "      <td>0.300</td>\n",
       "      <td>0.666</td>\n",
       "      <td>0.865</td>\n",
       "      <td>0.753</td>\n",
       "      <td>0.800</td>\n",
       "    </tr>\n",
       "    <tr>\n",
       "      <th>8</th>\n",
       "      <td>0.500</td>\n",
       "      <td>0.300</td>\n",
       "      <td>0.709</td>\n",
       "      <td>0.768</td>\n",
       "      <td>0.738</td>\n",
       "      <td>0.800</td>\n",
       "    </tr>\n",
       "    <tr>\n",
       "      <th>3</th>\n",
       "      <td>0.400</td>\n",
       "      <td>0.500</td>\n",
       "      <td>0.670</td>\n",
       "      <td>0.856</td>\n",
       "      <td>0.752</td>\n",
       "      <td>0.799</td>\n",
       "    </tr>\n",
       "  </tbody>\n",
       "</table>\n",
       "</div>"
      ],
      "text/plain": [
       "   thresholds   eta  precision  recall  f1_score  auc_score\n",
       "0       0.400 0.001      0.497   1.000     0.664      0.777\n",
       "1       0.400 0.100      0.640   0.891     0.744      0.793\n",
       "2       0.400 0.300      0.666   0.865     0.753      0.800\n",
       "2       0.400 0.300      0.666   0.865     0.753      0.800\n",
       "3       0.400 0.500      0.670   0.856     0.752      0.799\n",
       "4       0.400 0.700      0.670   0.857     0.752      0.797\n",
       "2       0.400 0.300      0.666   0.865     0.753      0.800\n",
       "8       0.500 0.300      0.709   0.768     0.738      0.800\n",
       "3       0.400 0.500      0.670   0.856     0.752      0.799"
      ]
     },
     "execution_count": 341,
     "metadata": {},
     "output_type": "execute_result"
    }
   ],
   "source": [
    "pd.concat([\n",
    "    df_scores.sort_values(by=\"recall\", ascending=False).head(3),\n",
    "    df_scores.sort_values(by=\"f1_score\", ascending=False).head(3),\n",
    "    df_scores.sort_values(by=\"auc_score\", ascending=False).head(3)\n",
    "])"
   ]
  },
  {
   "cell_type": "markdown",
   "metadata": {},
   "source": [
    "`eta = 0.1` returns perfect recall, but the precision score is very low, these results can not be taken into consideration. The best `eta` stays with the value `0.3`."
   ]
  },
  {
   "cell_type": "markdown",
   "metadata": {},
   "source": [
    "Tune `max_depth`."
   ]
  },
  {
   "cell_type": "code",
   "execution_count": 342,
   "metadata": {},
   "outputs": [],
   "source": [
    "scores = []\n",
    "for d in [1, 2, 3, 4, 5, 6, 10, 15, 20, None]:\n",
    "    xgb_params = {\n",
    "            'eta': 0.3, # learning rate\n",
    "            'max_depth': d,\n",
    "            'min_child_weight': 1, # min_samples_leaf\n",
    "\n",
    "            'objective': 'binary:logistic', # specify that we have a binary classification model\n",
    "            'eval_metric': 'auc',\n",
    "            'nthread': 8,\n",
    "            'seed': dp.seed,\n",
    "            'verbosity': 1 # show the process 0, 1, 2\n",
    "    }\n",
    "    model = xgb.train(xgb_params, dtrain, num_boost_round=10)\n",
    "    y_pred = model.predict(dval) \n",
    "    precision = precision_score(y_val, y_pred >= 0.4)\n",
    "    recall = recall_score(y_val, y_pred >= 0.4)\n",
    "    f1 = f1_score(y_val, y_pred >= 0.4)\n",
    "    auc = roc_auc_score(y_val, y_pred)\n",
    "    scores.append((d, precision, recall, f1, auc))\n",
    "df_scores = pd.DataFrame(scores, columns=[\"max_depth\",  \"precision\", \"recall\", \"f1_score\", \"auc_score\"])"
   ]
  },
  {
   "cell_type": "code",
   "execution_count": 343,
   "metadata": {},
   "outputs": [
    {
     "data": {
      "text/html": [
       "<div>\n",
       "<style scoped>\n",
       "    .dataframe tbody tr th:only-of-type {\n",
       "        vertical-align: middle;\n",
       "    }\n",
       "\n",
       "    .dataframe tbody tr th {\n",
       "        vertical-align: top;\n",
       "    }\n",
       "\n",
       "    .dataframe thead th {\n",
       "        text-align: right;\n",
       "    }\n",
       "</style>\n",
       "<table border=\"1\" class=\"dataframe\">\n",
       "  <thead>\n",
       "    <tr style=\"text-align: right;\">\n",
       "      <th></th>\n",
       "      <th>max_depth</th>\n",
       "      <th>precision</th>\n",
       "      <th>recall</th>\n",
       "      <th>f1_score</th>\n",
       "      <th>auc_score</th>\n",
       "    </tr>\n",
       "  </thead>\n",
       "  <tbody>\n",
       "    <tr>\n",
       "      <th>0</th>\n",
       "      <td>1.000</td>\n",
       "      <td>0.635</td>\n",
       "      <td>0.873</td>\n",
       "      <td>0.735</td>\n",
       "      <td>0.775</td>\n",
       "    </tr>\n",
       "    <tr>\n",
       "      <th>1</th>\n",
       "      <td>2.000</td>\n",
       "      <td>0.635</td>\n",
       "      <td>0.883</td>\n",
       "      <td>0.738</td>\n",
       "      <td>0.784</td>\n",
       "    </tr>\n",
       "    <tr>\n",
       "      <th>2</th>\n",
       "      <td>3.000</td>\n",
       "      <td>0.656</td>\n",
       "      <td>0.868</td>\n",
       "      <td>0.747</td>\n",
       "      <td>0.793</td>\n",
       "    </tr>\n",
       "    <tr>\n",
       "      <th>3</th>\n",
       "      <td>4.000</td>\n",
       "      <td>0.659</td>\n",
       "      <td>0.869</td>\n",
       "      <td>0.749</td>\n",
       "      <td>0.798</td>\n",
       "    </tr>\n",
       "    <tr>\n",
       "      <th>4</th>\n",
       "      <td>5.000</td>\n",
       "      <td>0.662</td>\n",
       "      <td>0.863</td>\n",
       "      <td>0.749</td>\n",
       "      <td>0.799</td>\n",
       "    </tr>\n",
       "    <tr>\n",
       "      <th>5</th>\n",
       "      <td>6.000</td>\n",
       "      <td>0.666</td>\n",
       "      <td>0.865</td>\n",
       "      <td>0.753</td>\n",
       "      <td>0.800</td>\n",
       "    </tr>\n",
       "    <tr>\n",
       "      <th>6</th>\n",
       "      <td>10.000</td>\n",
       "      <td>0.668</td>\n",
       "      <td>0.856</td>\n",
       "      <td>0.751</td>\n",
       "      <td>0.796</td>\n",
       "    </tr>\n",
       "    <tr>\n",
       "      <th>7</th>\n",
       "      <td>15.000</td>\n",
       "      <td>0.666</td>\n",
       "      <td>0.843</td>\n",
       "      <td>0.744</td>\n",
       "      <td>0.783</td>\n",
       "    </tr>\n",
       "    <tr>\n",
       "      <th>8</th>\n",
       "      <td>20.000</td>\n",
       "      <td>0.660</td>\n",
       "      <td>0.821</td>\n",
       "      <td>0.732</td>\n",
       "      <td>0.773</td>\n",
       "    </tr>\n",
       "    <tr>\n",
       "      <th>9</th>\n",
       "      <td>NaN</td>\n",
       "      <td>0.666</td>\n",
       "      <td>0.865</td>\n",
       "      <td>0.753</td>\n",
       "      <td>0.800</td>\n",
       "    </tr>\n",
       "  </tbody>\n",
       "</table>\n",
       "</div>"
      ],
      "text/plain": [
       "   max_depth  precision  recall  f1_score  auc_score\n",
       "0      1.000      0.635   0.873     0.735      0.775\n",
       "1      2.000      0.635   0.883     0.738      0.784\n",
       "2      3.000      0.656   0.868     0.747      0.793\n",
       "3      4.000      0.659   0.869     0.749      0.798\n",
       "4      5.000      0.662   0.863     0.749      0.799\n",
       "5      6.000      0.666   0.865     0.753      0.800\n",
       "6     10.000      0.668   0.856     0.751      0.796\n",
       "7     15.000      0.666   0.843     0.744      0.783\n",
       "8     20.000      0.660   0.821     0.732      0.773\n",
       "9        NaN      0.666   0.865     0.753      0.800"
      ]
     },
     "execution_count": 343,
     "metadata": {},
     "output_type": "execute_result"
    }
   ],
   "source": [
    "df_scores"
   ]
  },
  {
   "cell_type": "markdown",
   "metadata": {},
   "source": [
    "`max_depth` stays equal to 6"
   ]
  },
  {
   "cell_type": "markdown",
   "metadata": {},
   "source": [
    "#### Tune `min_child_weight`"
   ]
  },
  {
   "cell_type": "code",
   "execution_count": 344,
   "metadata": {},
   "outputs": [],
   "source": [
    "scores = []\n",
    "for w in [1, 2, 5, 10, 15, 20, 50, 100, 200, 500]:\n",
    "    xgb_params = {\n",
    "            'eta': 0.3, # learning rate\n",
    "            'max_depth': 6,\n",
    "            'min_child_weight': w, # min_samples_leaf\n",
    "\n",
    "            'objective': 'binary:logistic', # specify that we have a binary classification model\n",
    "            'eval_metric': 'auc',\n",
    "            'nthread': 8,\n",
    "            'seed': dp.seed,\n",
    "            'verbosity': 1 # show the process 0, 1, 2\n",
    "    }\n",
    "    model = xgb.train(xgb_params, dtrain, num_boost_round=10)\n",
    "    y_pred = model.predict(dval)\n",
    "    precision = precision_score(y_val, y_pred  >= 0.4)\n",
    "    recall = recall_score(y_val, y_pred  >= 0.4)\n",
    "    f1 = f1_score(y_val, y_pred  >= 0.4)\n",
    "    auc = roc_auc_score(y_val, y_pred)\n",
    "    scores.append((w, precision, recall, f1, auc))\n",
    "df_scores = pd.DataFrame(scores, columns=[\"min_child_weight\",  \"precision\", \"recall\", \"f1_score\", \"auc_score\"])"
   ]
  },
  {
   "cell_type": "code",
   "execution_count": 345,
   "metadata": {},
   "outputs": [
    {
     "data": {
      "text/html": [
       "<div>\n",
       "<style scoped>\n",
       "    .dataframe tbody tr th:only-of-type {\n",
       "        vertical-align: middle;\n",
       "    }\n",
       "\n",
       "    .dataframe tbody tr th {\n",
       "        vertical-align: top;\n",
       "    }\n",
       "\n",
       "    .dataframe thead th {\n",
       "        text-align: right;\n",
       "    }\n",
       "</style>\n",
       "<table border=\"1\" class=\"dataframe\">\n",
       "  <thead>\n",
       "    <tr style=\"text-align: right;\">\n",
       "      <th></th>\n",
       "      <th>min_child_weight</th>\n",
       "      <th>precision</th>\n",
       "      <th>recall</th>\n",
       "      <th>f1_score</th>\n",
       "      <th>auc_score</th>\n",
       "    </tr>\n",
       "  </thead>\n",
       "  <tbody>\n",
       "    <tr>\n",
       "      <th>0</th>\n",
       "      <td>1</td>\n",
       "      <td>0.666</td>\n",
       "      <td>0.865</td>\n",
       "      <td>0.753</td>\n",
       "      <td>0.800</td>\n",
       "    </tr>\n",
       "    <tr>\n",
       "      <th>1</th>\n",
       "      <td>2</td>\n",
       "      <td>0.670</td>\n",
       "      <td>0.859</td>\n",
       "      <td>0.753</td>\n",
       "      <td>0.800</td>\n",
       "    </tr>\n",
       "    <tr>\n",
       "      <th>2</th>\n",
       "      <td>5</td>\n",
       "      <td>0.667</td>\n",
       "      <td>0.864</td>\n",
       "      <td>0.753</td>\n",
       "      <td>0.801</td>\n",
       "    </tr>\n",
       "    <tr>\n",
       "      <th>3</th>\n",
       "      <td>10</td>\n",
       "      <td>0.671</td>\n",
       "      <td>0.858</td>\n",
       "      <td>0.753</td>\n",
       "      <td>0.800</td>\n",
       "    </tr>\n",
       "    <tr>\n",
       "      <th>4</th>\n",
       "      <td>15</td>\n",
       "      <td>0.672</td>\n",
       "      <td>0.862</td>\n",
       "      <td>0.755</td>\n",
       "      <td>0.801</td>\n",
       "    </tr>\n",
       "    <tr>\n",
       "      <th>5</th>\n",
       "      <td>20</td>\n",
       "      <td>0.672</td>\n",
       "      <td>0.856</td>\n",
       "      <td>0.752</td>\n",
       "      <td>0.801</td>\n",
       "    </tr>\n",
       "    <tr>\n",
       "      <th>6</th>\n",
       "      <td>50</td>\n",
       "      <td>0.663</td>\n",
       "      <td>0.870</td>\n",
       "      <td>0.752</td>\n",
       "      <td>0.802</td>\n",
       "    </tr>\n",
       "    <tr>\n",
       "      <th>7</th>\n",
       "      <td>100</td>\n",
       "      <td>0.665</td>\n",
       "      <td>0.862</td>\n",
       "      <td>0.750</td>\n",
       "      <td>0.801</td>\n",
       "    </tr>\n",
       "    <tr>\n",
       "      <th>8</th>\n",
       "      <td>200</td>\n",
       "      <td>0.665</td>\n",
       "      <td>0.869</td>\n",
       "      <td>0.753</td>\n",
       "      <td>0.801</td>\n",
       "    </tr>\n",
       "    <tr>\n",
       "      <th>9</th>\n",
       "      <td>500</td>\n",
       "      <td>0.661</td>\n",
       "      <td>0.861</td>\n",
       "      <td>0.748</td>\n",
       "      <td>0.795</td>\n",
       "    </tr>\n",
       "  </tbody>\n",
       "</table>\n",
       "</div>"
      ],
      "text/plain": [
       "   min_child_weight  precision  recall  f1_score  auc_score\n",
       "0                 1      0.666   0.865     0.753      0.800\n",
       "1                 2      0.670   0.859     0.753      0.800\n",
       "2                 5      0.667   0.864     0.753      0.801\n",
       "3                10      0.671   0.858     0.753      0.800\n",
       "4                15      0.672   0.862     0.755      0.801\n",
       "5                20      0.672   0.856     0.752      0.801\n",
       "6                50      0.663   0.870     0.752      0.802\n",
       "7               100      0.665   0.862     0.750      0.801\n",
       "8               200      0.665   0.869     0.753      0.801\n",
       "9               500      0.661   0.861     0.748      0.795"
      ]
     },
     "execution_count": 345,
     "metadata": {},
     "output_type": "execute_result"
    }
   ],
   "source": [
    "df_scores"
   ]
  },
  {
   "cell_type": "markdown",
   "metadata": {},
   "source": [
    "`min_child_weight = 50` improves `recall` and `auc` scores"
   ]
  },
  {
   "cell_type": "markdown",
   "metadata": {},
   "source": [
    "#### Final XGBoos model"
   ]
  },
  {
   "cell_type": "code",
   "execution_count": 346,
   "metadata": {},
   "outputs": [
    {
     "name": "stdout",
     "output_type": "stream",
     "text": [
      "              precision    recall  f1-score\n",
      "\n",
      "           1       0.66      0.87      0.75\n",
      "\n",
      "    accuracy                           0.72\n",
      "         auc                           0.8\n"
     ]
    }
   ],
   "source": [
    "xgb_params = {\n",
    "        'eta': 0.3, # learning rate\n",
    "        'max_depth': 6,\n",
    "        'min_child_weight': 50, # min_samples_leaf\n",
    "        'objective': 'binary:logistic', # specify that we have a binary classification model\n",
    "        'eval_metric': 'auc',\n",
    "        'nthread': 8,\n",
    "        'seed': dp.seed,\n",
    "        'verbosity': 1 # show the process 0, 1, 2\n",
    "}\n",
    "model = xgb.train(xgb_params, dtrain, num_boost_round=10)\n",
    "y_pred = model.predict(dval)\n",
    "print(md.get_report(y_val, y_pred, 0.4))"
   ]
  },
  {
   "cell_type": "markdown",
   "metadata": {},
   "source": [
    "Compare to final Random Forest model"
   ]
  },
  {
   "cell_type": "code",
   "execution_count": 360,
   "metadata": {},
   "outputs": [
    {
     "name": "stdout",
     "output_type": "stream",
     "text": [
      "              precision    recall  f1-score\n",
      "\n",
      "           1       0.66      0.87      0.75\n",
      "\n",
      "    accuracy                           0.72\n",
      "         auc                           0.8\n"
     ]
    }
   ],
   "source": [
    "rf = RandomForestClassifier(\n",
    "        n_estimators=500, \n",
    "        max_depth = 10,\n",
    "        min_samples_leaf = 10,\n",
    "        n_jobs=-1, # speed up the process\n",
    "        random_state=dp.seed\n",
    "        )\n",
    "rf.fit(X_train, y_train)\n",
    "y_pred = rf.predict_proba(X_validate)[:, 1]\n",
    "print(md.get_report(y_val, y_pred, 0.4))"
   ]
  },
  {
   "cell_type": "markdown",
   "metadata": {},
   "source": [
    "I have got identical results for both models RandomForestClassifier and XGBoost."
   ]
  },
  {
   "cell_type": "code",
   "execution_count": 7,
   "metadata": {},
   "outputs": [],
   "source": [
    "# create concatenate train and validate into one set\n",
    "X = np.concatenate([X_train, X_validate])\n",
    "y = np.concatenate([y_train, y_val])"
   ]
  },
  {
   "cell_type": "code",
   "execution_count": 370,
   "metadata": {},
   "outputs": [],
   "source": [
    "auc_rf = []\n",
    "auc_xgb = []\n",
    "recall_rf = []\n",
    "recall_xgb = []\n",
    "\n",
    "kfold = KFold(n_splits=10, shuffle=True, random_state=dp.seed)\n",
    "\n",
    "for train_idx, val_idx in kfold.split(X):\n",
    "    Xt = X[train_idx]\n",
    "    Xv = X[val_idx]\n",
    "\n",
    "    yt = y[train_idx]\n",
    "    yv = y[val_idx]\n",
    "\n",
    "    dtrain = xgb.DMatrix(Xt, label=yt, feature_names=features)\n",
    "    dval = xgb.DMatrix(Xv, label=yv, feature_names=features)\n",
    "\n",
    "    rf = RandomForestClassifier(\n",
    "        n_estimators=500, \n",
    "        max_depth = 10,\n",
    "        min_samples_leaf = 10,\n",
    "        n_jobs=-1, # speed up the process\n",
    "        random_state=dp.seed\n",
    "        )\n",
    "    rf.fit(Xt, yt)\n",
    "    model = xgb.train(xgb_params, dtrain, num_boost_round=10)\n",
    "\n",
    "    y_rf = rf.predict_proba(Xv)[:, 1]\n",
    "    y_xgb = model.predict(dval)\n",
    "\n",
    "    auc_rf.append(roc_auc_score(yv, y_rf))\n",
    "    recall_rf.append(recall_score(yv, y_rf >= 0.4))\n",
    "\n",
    "    auc_xgb.append(roc_auc_score(yv, y_xgb))\n",
    "    recall_xgb.append(recall_score(yv, y_xgb >= 0.4))\n",
    "    "
   ]
  },
  {
   "cell_type": "code",
   "execution_count": 373,
   "metadata": {},
   "outputs": [
    {
     "name": "stdout",
     "output_type": "stream",
     "text": [
      "Random Forest AUC: Mean 0.794 STD 0.004\n",
      "Random Forest Recall: Mean 0.866 STD 0.007\n",
      "\n",
      "XGBoost AUC: Mean 0.797 STD 0.004\n",
      "XGBoost Recall: Mean 0.864 STD 0.006\n"
     ]
    }
   ],
   "source": [
    "print('%s %.3f %s %.3f' % ('Random Forest AUC: Mean', np.mean(auc_rf), 'STD', np.std(auc_rf)))\n",
    "print('%s %.3f %s %.3f' % ('Random Forest Recall: Mean', np.mean(recall_rf), 'STD', np.std(recall_rf)))\n",
    "print()\n",
    "print('%s %.3f %s %.3f' % ('XGBoost AUC: Mean', np.mean(auc_xgb), 'STD', np.std(auc_xgb)))\n",
    "print('%s %.3f %s %.3f' % ('XGBoost Recall: Mean', np.mean(recall_xgb), 'STD', np.std(recall_xgb)))"
   ]
  },
  {
   "cell_type": "markdown",
   "metadata": {},
   "source": [
    "I pick `RandomForestClassifier` to my final model that goes to deployment because of slightly higher recall score after performing `KFolds` cross-validation."
   ]
  },
  {
   "cell_type": "markdown",
   "metadata": {},
   "source": [
    "<div class=\"alert alert-success\">\n",
    "\n",
    "### Model Deployment"
   ]
  },
  {
   "cell_type": "markdown",
   "metadata": {},
   "source": [
    "#### Create and save model"
   ]
  },
  {
   "cell_type": "code",
   "execution_count": 8,
   "metadata": {},
   "outputs": [
    {
     "name": "stdout",
     "output_type": "stream",
     "text": [
      "              precision    recall  f1-score\n",
      "\n",
      "           1       0.66      0.87      0.75\n",
      "\n",
      "    accuracy                           0.71\n",
      "         auc                           0.8\n"
     ]
    }
   ],
   "source": [
    "rf = RandomForestClassifier(\n",
    "    n_estimators=500, \n",
    "    max_depth = 10,\n",
    "    min_samples_leaf = 10,\n",
    "    n_jobs=-1, # speed up the process\n",
    "    random_state=dp.seed\n",
    "    )\n",
    "rf.fit(X, y)\n",
    "# check results on the test set\n",
    "y_pred = rf.predict_proba(X_test)[:, 1]\n",
    "print(md.get_report(y_test, y_pred, 0.4))"
   ]
  },
  {
   "cell_type": "code",
   "execution_count": 14,
   "metadata": {},
   "outputs": [],
   "source": [
    "# save model to file\n",
    "model_file = \"model.bin\"\n",
    "with open(model_file, \"wb\") as model_out:\n",
    "    pickle.dump(rf, model_out)"
   ]
  },
  {
   "cell_type": "markdown",
   "metadata": {},
   "source": [
    "#### Load and Save `OheHotEncoder`"
   ]
  },
  {
   "cell_type": "code",
   "execution_count": 15,
   "metadata": {},
   "outputs": [],
   "source": [
    "ohe = dp.get_ohe(train)"
   ]
  },
  {
   "cell_type": "code",
   "execution_count": 16,
   "metadata": {},
   "outputs": [
    {
     "data": {
      "text/plain": [
       "OneHotEncoder(drop='first', sparse=False)"
      ]
     },
     "execution_count": 16,
     "metadata": {},
     "output_type": "execute_result"
    }
   ],
   "source": [
    "ohe"
   ]
  },
  {
   "cell_type": "code",
   "execution_count": 17,
   "metadata": {},
   "outputs": [],
   "source": [
    "#ohe = dp.get_ohe(train)\n",
    "\n",
    "encoder_file = \"encoder.bin\"\n",
    "with open(encoder_file, \"wb\") as encoder_out:\n",
    "    pickle.dump(ohe, encoder_out)"
   ]
  },
  {
   "cell_type": "markdown",
   "metadata": {},
   "source": [
    "### Create and save `FunctionTransformer`"
   ]
  },
  {
   "cell_type": "code",
   "execution_count": 32,
   "metadata": {},
   "outputs": [],
   "source": [
    "# create a function that applies custom transormation\n",
    "def transform_single(patient: dict, ohe= ohe):\n",
    "    ''' \n",
    "    Apply custom transformation.\n",
    "    Parameters:\n",
    "        patient: dictionary with respondent's data\n",
    "        ohe: OneHotEncoder\n",
    "    '''\n",
    "    binary = ['HighBP', 'HighChol', 'CholCheck',  'Smoker', 'Stroke',\n",
    "       'HeartDiseaseorAttack', 'PhysActivity', 'HvyAlcoholConsump', 'DiffWalk']\n",
    "    ordinal = ['MentHlth', 'PhysHlth', 'GenHlth', 'Age', 'Education', 'Income']\n",
    "    \n",
    "    bmi = [\"BMI_under\", \"BMI_over\"]\n",
    "   \n",
    "    def change_values(x, target):\n",
    "        ''' \n",
    "        Function to replace values in MentHlth and PhysHlth columns\n",
    "        below 10 days -> low, above 20 days -> high, everything else \"medium\"\n",
    "        '''\n",
    "        conds = [x[target] <= 10, x[target] > 20]\n",
    "        choices = ['low', 'high']\n",
    "        return np.select(conds, choices, default='medium').astype(\"object\")\n",
    "\n",
    "    p = pd.DataFrame([patient])\n",
    "    \n",
    "    p.MentHlth = change_values(p, 'MentHlth')\n",
    "    p.PhysHlth = change_values(p, 'PhysHlth')\n",
    "    p[\"BMI_under\"] = p.BMI.map(lambda x: 1 if x <= 18 else 0)\n",
    "    p[\"BMI_over\"] = p.BMI.map(lambda x: 1 if x >=25 else 0)\n",
    "    #p.drop(\"BMI\", axis=1, inplace=True)\n",
    "    \n",
    "    return np.concatenate([\n",
    "        p[binary],\n",
    "        ohe.transform(p[ordinal]).astype('uint8'),\n",
    "        p[bmi].astype('uint8')\n",
    "        ], axis=1)\n"
   ]
  },
  {
   "cell_type": "code",
   "execution_count": 33,
   "metadata": {},
   "outputs": [
    {
     "data": {
      "text/plain": [
       "FunctionTransformer(func=<function transform_single at 0x140e144c0>)"
      ]
     },
     "execution_count": 33,
     "metadata": {},
     "output_type": "execute_result"
    }
   ],
   "source": [
    "transformer = FunctionTransformer(transform_single)\n",
    "transformer"
   ]
  },
  {
   "cell_type": "code",
   "execution_count": 34,
   "metadata": {},
   "outputs": [
    {
     "data": {
      "text/plain": [
       "array([[1, 1, 1, 0, 0, 0, 1, 1, 0, 1, 0, 0, 1, 0, 0, 1, 0, 0, 0, 0, 0, 1,\n",
       "        0, 0, 0, 0, 0, 0, 0, 0, 0, 0, 0, 1, 0, 0, 0, 0, 0, 1, 0, 0, 1]])"
      ]
     },
     "execution_count": 34,
     "metadata": {},
     "output_type": "execute_result"
    }
   ],
   "source": [
    "# check if transformer works\n",
    "patient = {'HighBP':1,\n",
    " 'HighChol':1,\n",
    " 'CholCheck':1,\n",
    " 'BMI':25,\n",
    " 'Smoker':0,\n",
    " 'Stroke':0,\n",
    " 'HeartDiseaseorAttack':0,\n",
    " 'PhysActivity':1,\n",
    " 'Fruits':1,\n",
    " 'Veggies':1,\n",
    " 'HvyAlcoholConsump':1,\n",
    " 'AnyHealthcare':1,\n",
    " 'NoDocbcCost':0,\n",
    " 'GenHlth':4,\n",
    " 'MentHlth':2,\n",
    " 'PhysHlth':14,\n",
    " 'DiffWalk':0,\n",
    " 'Sex':1,\n",
    " 'Age':6,\n",
    " 'Education':6,\n",
    " 'Income':7}\n",
    " \n",
    "transformer.transform(patient)"
   ]
  },
  {
   "cell_type": "code",
   "execution_count": 35,
   "metadata": {},
   "outputs": [],
   "source": [
    "# save transformer\n",
    "transformer_file = \"transformer.bin\"\n",
    "with open(transformer_file, \"wb\") as transformer_out:\n",
    "    pickle.dump(transformer, transformer_out)"
   ]
  },
  {
   "cell_type": "markdown",
   "metadata": {},
   "source": [
    "#### Confirm that everythin works"
   ]
  },
  {
   "cell_type": "code",
   "execution_count": 36,
   "metadata": {},
   "outputs": [
    {
     "data": {
      "text/plain": [
       "RandomForestClassifier(max_depth=10, min_samples_leaf=10, n_estimators=500,\n",
       "                       n_jobs=-1, random_state=2912)"
      ]
     },
     "execution_count": 36,
     "metadata": {},
     "output_type": "execute_result"
    }
   ],
   "source": [
    "with open(model_file, \"rb\") as model_in:\n",
    "    model = pickle.load(model_in)\n",
    "model"
   ]
  },
  {
   "cell_type": "code",
   "execution_count": 37,
   "metadata": {},
   "outputs": [
    {
     "data": {
      "text/plain": [
       "OneHotEncoder(drop='first', sparse=False)"
      ]
     },
     "execution_count": 37,
     "metadata": {},
     "output_type": "execute_result"
    }
   ],
   "source": [
    "with open(encoder_file, \"rb\") as encoder_in:\n",
    "    ohe = pickle.load(encoder_in)\n",
    "ohe"
   ]
  },
  {
   "cell_type": "code",
   "execution_count": 38,
   "metadata": {},
   "outputs": [
    {
     "data": {
      "text/plain": [
       "FunctionTransformer(func=<function transform_single at 0x140e144c0>)"
      ]
     },
     "execution_count": 38,
     "metadata": {},
     "output_type": "execute_result"
    }
   ],
   "source": [
    "with open(transformer_file, \"rb\") as transformer_in:\n",
    "    t = pickle.load(transformer_in)\n",
    "t"
   ]
  },
  {
   "cell_type": "code",
   "execution_count": 42,
   "metadata": {},
   "outputs": [
    {
     "data": {
      "text/plain": [
       "0.61"
      ]
     },
     "execution_count": 42,
     "metadata": {},
     "output_type": "execute_result"
    }
   ],
   "source": [
    "model.predict_proba(t.transform(patient))[:, 1][0].round(2)"
   ]
  }
 ],
 "metadata": {
  "kernelspec": {
   "display_name": "ml-zoomcamp",
   "language": "python",
   "name": "python3"
  },
  "language_info": {
   "codemirror_mode": {
    "name": "ipython",
    "version": 3
   },
   "file_extension": ".py",
   "mimetype": "text/x-python",
   "name": "python",
   "nbconvert_exporter": "python",
   "pygments_lexer": "ipython3",
   "version": "3.9.18"
  }
 },
 "nbformat": 4,
 "nbformat_minor": 2
}
