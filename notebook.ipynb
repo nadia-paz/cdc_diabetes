{
 "cells": [
  {
   "cell_type": "markdown",
   "metadata": {},
   "source": [
    "<h1 style=\"color:#b01e3a;\">Diabetes Risk Prediction</h2>"
   ]
  },
  {
   "cell_type": "markdown",
   "metadata": {},
   "source": [
    "Prediction of diabetis risk based on the healthcare indicators. Machine learning project."
   ]
  },
  {
   "cell_type": "markdown",
   "metadata": {},
   "source": [
    "__Table of Contents__\n",
    "\n",
    "1. [About the project](#about)\n",
    "2. [Load data](https://github.com/nadia-paz/cdc_diabetes/blob/main/notebook.ipynb#loaddata)\n",
    "3. [Exploratory Data Analysis](#eda)\n",
    "4. Creating and Tuning ML models\n",
    "    - Logistic Regression\n",
    "    - Decision Tree\n",
    "    - Random Forest\n",
    "    - XGBoost\n",
    "5. Training the Final model"
   ]
  },
  {
   "cell_type": "markdown",
   "metadata": {},
   "source": [
    "<a name=\"about\"></a> \n",
    "### About the project"
   ]
  },
  {
   "cell_type": "markdown",
   "metadata": {},
   "source": [
    "> The project involves working with BRFSS data from CDC. The Behavioral Risk Factor Surveillance System (BRFSS) is a health-related telephone survey that collects data about US residents' health-related risk behaviors, chronic health conditions, and use of preventive services. If you want to learn more about the data and its source, please refer to the `Readme` file of the project. <br>\n",
    "\n",
    "- The main objective of the project is to develop a __machine-learning model__ that can *predict the risk of developing diabetes based on health indicators*. \n",
    "- As a secondary objective, this project aims to make a positive impact on people's lives by using the power of machine learning to predict the risks of developing diabetes. By analyzing health indicators and risk behaviors, I hope to create a model that can help individuals take proactive steps toward their health and well-being.\n"
   ]
  },
  {
   "cell_type": "code",
   "execution_count": 17,
   "metadata": {},
   "outputs": [],
   "source": [
    "# imports\n",
    "import numpy as np \n",
    "import pandas as pd\n",
    "\n",
    "import matplotlib.pyplot as plt \n",
    "import seaborn as sns\n",
    "%matplotlib inline\n",
    "%config InlineBackend.figure_format='retina'\n",
    "\n",
    "from scipy import stats \n",
    "from sklearn.metrics import mutual_info_score\n",
    "\n",
    "# load data preparation module\n",
    "import src.data_prep as dp\n",
    "import src.explore as ex\n",
    "\n",
    "pd.set_option('display.float_format', lambda x: '%.3f' % x)"
   ]
  },
  {
   "cell_type": "markdown",
   "metadata": {},
   "source": [
    "<a class=\"anchor\" id=\"loaddata\"></a>\n",
    "### Load data\n",
    "\n",
    "The data preparation code is located in the `data_prep.py` file in the `src` directory. It loads data, drops duplicates, converts data types, and splits data into `train`, `validation`, and `test` sets."
   ]
  },
  {
   "cell_type": "code",
   "execution_count": 2,
   "metadata": {},
   "outputs": [
    {
     "data": {
      "text/html": [
       "<div>\n",
       "<style scoped>\n",
       "    .dataframe tbody tr th:only-of-type {\n",
       "        vertical-align: middle;\n",
       "    }\n",
       "\n",
       "    .dataframe tbody tr th {\n",
       "        vertical-align: top;\n",
       "    }\n",
       "\n",
       "    .dataframe thead th {\n",
       "        text-align: right;\n",
       "    }\n",
       "</style>\n",
       "<table border=\"1\" class=\"dataframe\">\n",
       "  <thead>\n",
       "    <tr style=\"text-align: right;\">\n",
       "      <th></th>\n",
       "      <th>HighBP</th>\n",
       "      <th>HighChol</th>\n",
       "      <th>CholCheck</th>\n",
       "      <th>BMI</th>\n",
       "      <th>Smoker</th>\n",
       "      <th>Stroke</th>\n",
       "      <th>HeartDiseaseorAttack</th>\n",
       "      <th>PhysActivity</th>\n",
       "      <th>Fruits</th>\n",
       "      <th>Veggies</th>\n",
       "      <th>...</th>\n",
       "      <th>NoDocbcCost</th>\n",
       "      <th>GenHlth</th>\n",
       "      <th>MentHlth</th>\n",
       "      <th>PhysHlth</th>\n",
       "      <th>DiffWalk</th>\n",
       "      <th>Sex</th>\n",
       "      <th>Age</th>\n",
       "      <th>Education</th>\n",
       "      <th>Income</th>\n",
       "      <th>Diabetes_binary</th>\n",
       "    </tr>\n",
       "  </thead>\n",
       "  <tbody>\n",
       "    <tr>\n",
       "      <th>0</th>\n",
       "      <td>1</td>\n",
       "      <td>1</td>\n",
       "      <td>1</td>\n",
       "      <td>40</td>\n",
       "      <td>1</td>\n",
       "      <td>0</td>\n",
       "      <td>0</td>\n",
       "      <td>0</td>\n",
       "      <td>0</td>\n",
       "      <td>1</td>\n",
       "      <td>...</td>\n",
       "      <td>0</td>\n",
       "      <td>5</td>\n",
       "      <td>18</td>\n",
       "      <td>15</td>\n",
       "      <td>1</td>\n",
       "      <td>0</td>\n",
       "      <td>9</td>\n",
       "      <td>4</td>\n",
       "      <td>3</td>\n",
       "      <td>0</td>\n",
       "    </tr>\n",
       "    <tr>\n",
       "      <th>1</th>\n",
       "      <td>0</td>\n",
       "      <td>0</td>\n",
       "      <td>0</td>\n",
       "      <td>25</td>\n",
       "      <td>1</td>\n",
       "      <td>0</td>\n",
       "      <td>0</td>\n",
       "      <td>1</td>\n",
       "      <td>0</td>\n",
       "      <td>0</td>\n",
       "      <td>...</td>\n",
       "      <td>1</td>\n",
       "      <td>3</td>\n",
       "      <td>0</td>\n",
       "      <td>0</td>\n",
       "      <td>0</td>\n",
       "      <td>0</td>\n",
       "      <td>7</td>\n",
       "      <td>6</td>\n",
       "      <td>1</td>\n",
       "      <td>0</td>\n",
       "    </tr>\n",
       "    <tr>\n",
       "      <th>2</th>\n",
       "      <td>1</td>\n",
       "      <td>1</td>\n",
       "      <td>1</td>\n",
       "      <td>28</td>\n",
       "      <td>0</td>\n",
       "      <td>0</td>\n",
       "      <td>0</td>\n",
       "      <td>0</td>\n",
       "      <td>1</td>\n",
       "      <td>0</td>\n",
       "      <td>...</td>\n",
       "      <td>1</td>\n",
       "      <td>5</td>\n",
       "      <td>30</td>\n",
       "      <td>30</td>\n",
       "      <td>1</td>\n",
       "      <td>0</td>\n",
       "      <td>9</td>\n",
       "      <td>4</td>\n",
       "      <td>8</td>\n",
       "      <td>0</td>\n",
       "    </tr>\n",
       "    <tr>\n",
       "      <th>3</th>\n",
       "      <td>1</td>\n",
       "      <td>0</td>\n",
       "      <td>1</td>\n",
       "      <td>27</td>\n",
       "      <td>0</td>\n",
       "      <td>0</td>\n",
       "      <td>0</td>\n",
       "      <td>1</td>\n",
       "      <td>1</td>\n",
       "      <td>1</td>\n",
       "      <td>...</td>\n",
       "      <td>0</td>\n",
       "      <td>2</td>\n",
       "      <td>0</td>\n",
       "      <td>0</td>\n",
       "      <td>0</td>\n",
       "      <td>0</td>\n",
       "      <td>11</td>\n",
       "      <td>3</td>\n",
       "      <td>6</td>\n",
       "      <td>0</td>\n",
       "    </tr>\n",
       "    <tr>\n",
       "      <th>4</th>\n",
       "      <td>1</td>\n",
       "      <td>1</td>\n",
       "      <td>1</td>\n",
       "      <td>24</td>\n",
       "      <td>0</td>\n",
       "      <td>0</td>\n",
       "      <td>0</td>\n",
       "      <td>1</td>\n",
       "      <td>1</td>\n",
       "      <td>1</td>\n",
       "      <td>...</td>\n",
       "      <td>0</td>\n",
       "      <td>2</td>\n",
       "      <td>3</td>\n",
       "      <td>0</td>\n",
       "      <td>0</td>\n",
       "      <td>0</td>\n",
       "      <td>11</td>\n",
       "      <td>5</td>\n",
       "      <td>4</td>\n",
       "      <td>0</td>\n",
       "    </tr>\n",
       "  </tbody>\n",
       "</table>\n",
       "<p>5 rows × 22 columns</p>\n",
       "</div>"
      ],
      "text/plain": [
       "  HighBP HighChol CholCheck  BMI Smoker Stroke HeartDiseaseorAttack  \\\n",
       "0      1        1         1   40      1      0                    0   \n",
       "1      0        0         0   25      1      0                    0   \n",
       "2      1        1         1   28      0      0                    0   \n",
       "3      1        0         1   27      0      0                    0   \n",
       "4      1        1         1   24      0      0                    0   \n",
       "\n",
       "  PhysActivity Fruits Veggies  ... NoDocbcCost GenHlth MentHlth PhysHlth  \\\n",
       "0            0      0       1  ...           0       5       18       15   \n",
       "1            1      0       0  ...           1       3        0        0   \n",
       "2            0      1       0  ...           1       5       30       30   \n",
       "3            1      1       1  ...           0       2        0        0   \n",
       "4            1      1       1  ...           0       2        3        0   \n",
       "\n",
       "   DiffWalk  Sex Age Education Income Diabetes_binary  \n",
       "0         1    0   9         4      3               0  \n",
       "1         0    0   7         6      1               0  \n",
       "2         1    0   9         4      8               0  \n",
       "3         0    0  11         3      6               0  \n",
       "4         0    0  11         5      4               0  \n",
       "\n",
       "[5 rows x 22 columns]"
      ]
     },
     "execution_count": 2,
     "metadata": {},
     "output_type": "execute_result"
    }
   ],
   "source": [
    "# load the data\n",
    "df = dp.acquire()\n",
    "df.head()"
   ]
  },
  {
   "cell_type": "markdown",
   "metadata": {},
   "source": [
    "Upon initial inspection, the data appeared to mostly consist of digital values and was prepared for machine learning. However, it was not user-friendly for data exploration. Based on the data dictionary provided in the `Readme` file I replaced numerical values in categorical columns with human-readable information. This makes the process of data exploration easier. Those changes only impact `df_explore` data frame, which excludes any data from the `test` data set, and leaves the original data untouched as well."
   ]
  },
  {
   "cell_type": "markdown",
   "metadata": {},
   "source": [
    "<a name=\"eda\"></a> \n",
    "### Exploratory Data Analysis"
   ]
  },
  {
   "cell_type": "code",
   "execution_count": 6,
   "metadata": {},
   "outputs": [],
   "source": [
    "from importlib import reload"
   ]
  },
  {
   "cell_type": "code",
   "execution_count": 7,
   "metadata": {},
   "outputs": [
    {
     "data": {
      "text/plain": [
       "<module 'src.data_prep' from '/Users/nadina/Documents/Zoomcapm/projects/cdc_diabetes/src/data_prep.py'>"
      ]
     },
     "execution_count": 7,
     "metadata": {},
     "output_type": "execute_result"
    }
   ],
   "source": [
    "reload(dp)"
   ]
  },
  {
   "cell_type": "code",
   "execution_count": 11,
   "metadata": {},
   "outputs": [
    {
     "data": {
      "text/html": [
       "<div>\n",
       "<style scoped>\n",
       "    .dataframe tbody tr th:only-of-type {\n",
       "        vertical-align: middle;\n",
       "    }\n",
       "\n",
       "    .dataframe tbody tr th {\n",
       "        vertical-align: top;\n",
       "    }\n",
       "\n",
       "    .dataframe thead th {\n",
       "        text-align: right;\n",
       "    }\n",
       "</style>\n",
       "<table border=\"1\" class=\"dataframe\">\n",
       "  <thead>\n",
       "    <tr style=\"text-align: right;\">\n",
       "      <th></th>\n",
       "      <th>0</th>\n",
       "      <th>1</th>\n",
       "      <th>2</th>\n",
       "    </tr>\n",
       "  </thead>\n",
       "  <tbody>\n",
       "    <tr>\n",
       "      <th>HighBP</th>\n",
       "      <td>Normal Blood Pressure</td>\n",
       "      <td>Normal Blood Pressure</td>\n",
       "      <td>Normal Blood Pressure</td>\n",
       "    </tr>\n",
       "    <tr>\n",
       "      <th>HighChol</th>\n",
       "      <td>High Cholesterol</td>\n",
       "      <td>Normal Cholesterol</td>\n",
       "      <td>High Cholesterol</td>\n",
       "    </tr>\n",
       "    <tr>\n",
       "      <th>CholCheck</th>\n",
       "      <td>Had Cholesterol Check</td>\n",
       "      <td>Had Cholesterol Check</td>\n",
       "      <td>Had Cholesterol Check</td>\n",
       "    </tr>\n",
       "    <tr>\n",
       "      <th>BMI</th>\n",
       "      <td>42</td>\n",
       "      <td>27</td>\n",
       "      <td>35</td>\n",
       "    </tr>\n",
       "    <tr>\n",
       "      <th>Smoker</th>\n",
       "      <td>Not a Smoker</td>\n",
       "      <td>Not a Smoker</td>\n",
       "      <td>Smoker</td>\n",
       "    </tr>\n",
       "    <tr>\n",
       "      <th>Stroke</th>\n",
       "      <td>Didn't Have a Stroke</td>\n",
       "      <td>Didn't Have a Stroke</td>\n",
       "      <td>Didn't Have a Stroke</td>\n",
       "    </tr>\n",
       "    <tr>\n",
       "      <th>HeartDiseaseorAttack</th>\n",
       "      <td>No Heart Disease</td>\n",
       "      <td>No Heart Disease</td>\n",
       "      <td>No Heart Disease</td>\n",
       "    </tr>\n",
       "    <tr>\n",
       "      <th>PhysActivity</th>\n",
       "      <td>No Physical Activity - 30 days</td>\n",
       "      <td>No Physical Activity - 30 days</td>\n",
       "      <td>Active in the past 30 days</td>\n",
       "    </tr>\n",
       "    <tr>\n",
       "      <th>Fruits</th>\n",
       "      <td>Eats at least 1 friut a day</td>\n",
       "      <td>Eats at least 1 friut a day</td>\n",
       "      <td>Eats at least 1 friut a day</td>\n",
       "    </tr>\n",
       "    <tr>\n",
       "      <th>Veggies</th>\n",
       "      <td>Eats at least 1 vegetable a day</td>\n",
       "      <td>Eats at least 1 vegetable a day</td>\n",
       "      <td>Eats at least 1 vegetable a day</td>\n",
       "    </tr>\n",
       "    <tr>\n",
       "      <th>HvyAlcoholConsump</th>\n",
       "      <td>Normal alcohol consumption</td>\n",
       "      <td>Normal alcohol consumption</td>\n",
       "      <td>Normal alcohol consumption</td>\n",
       "    </tr>\n",
       "    <tr>\n",
       "      <th>AnyHealthcare</th>\n",
       "      <td>Medical Insurance</td>\n",
       "      <td>Medical Insurance</td>\n",
       "      <td>Medical Insurance</td>\n",
       "    </tr>\n",
       "    <tr>\n",
       "      <th>NoDocbcCost</th>\n",
       "      <td>Visit doctor when sick</td>\n",
       "      <td>Visit doctor when sick</td>\n",
       "      <td>No doctor visit becasue of cost</td>\n",
       "    </tr>\n",
       "    <tr>\n",
       "      <th>GenHlth</th>\n",
       "      <td>2</td>\n",
       "      <td>3</td>\n",
       "      <td>4</td>\n",
       "    </tr>\n",
       "    <tr>\n",
       "      <th>MentHlth</th>\n",
       "      <td>0</td>\n",
       "      <td>0</td>\n",
       "      <td>30</td>\n",
       "    </tr>\n",
       "    <tr>\n",
       "      <th>PhysHlth</th>\n",
       "      <td>0</td>\n",
       "      <td>0</td>\n",
       "      <td>30</td>\n",
       "    </tr>\n",
       "    <tr>\n",
       "      <th>DiffWalk</th>\n",
       "      <td>Normal walking</td>\n",
       "      <td>Normal walking</td>\n",
       "      <td>Normal walking</td>\n",
       "    </tr>\n",
       "    <tr>\n",
       "      <th>Sex</th>\n",
       "      <td>Female</td>\n",
       "      <td>Male</td>\n",
       "      <td>Female</td>\n",
       "    </tr>\n",
       "    <tr>\n",
       "      <th>Age</th>\n",
       "      <td>55 - 59</td>\n",
       "      <td>55 - 59</td>\n",
       "      <td>50 - 54</td>\n",
       "    </tr>\n",
       "    <tr>\n",
       "      <th>Education</th>\n",
       "      <td>college degree</td>\n",
       "      <td>high school</td>\n",
       "      <td>some college</td>\n",
       "    </tr>\n",
       "    <tr>\n",
       "      <th>Income</th>\n",
       "      <td>more than $85K</td>\n",
       "      <td>$15K - $20K</td>\n",
       "      <td>less then $10K</td>\n",
       "    </tr>\n",
       "    <tr>\n",
       "      <th>Diabetes_binary</th>\n",
       "      <td>0</td>\n",
       "      <td>0</td>\n",
       "      <td>0</td>\n",
       "    </tr>\n",
       "    <tr>\n",
       "      <th>Diabetes</th>\n",
       "      <td>No Diabetes</td>\n",
       "      <td>No Diabetes</td>\n",
       "      <td>No Diabetes</td>\n",
       "    </tr>\n",
       "  </tbody>\n",
       "</table>\n",
       "</div>"
      ],
      "text/plain": [
       "                                                    0  \\\n",
       "HighBP                          Normal Blood Pressure   \n",
       "HighChol                             High Cholesterol   \n",
       "CholCheck                       Had Cholesterol Check   \n",
       "BMI                                                42   \n",
       "Smoker                                   Not a Smoker   \n",
       "Stroke                           Didn't Have a Stroke   \n",
       "HeartDiseaseorAttack                 No Heart Disease   \n",
       "PhysActivity           No Physical Activity - 30 days   \n",
       "Fruits                    Eats at least 1 friut a day   \n",
       "Veggies               Eats at least 1 vegetable a day   \n",
       "HvyAlcoholConsump          Normal alcohol consumption   \n",
       "AnyHealthcare                       Medical Insurance   \n",
       "NoDocbcCost                    Visit doctor when sick   \n",
       "GenHlth                                             2   \n",
       "MentHlth                                            0   \n",
       "PhysHlth                                            0   \n",
       "DiffWalk                               Normal walking   \n",
       "Sex                                            Female   \n",
       "Age                                           55 - 59   \n",
       "Education                              college degree   \n",
       "Income                                 more than $85K   \n",
       "Diabetes_binary                                     0   \n",
       "Diabetes                                  No Diabetes   \n",
       "\n",
       "                                                    1  \\\n",
       "HighBP                          Normal Blood Pressure   \n",
       "HighChol                           Normal Cholesterol   \n",
       "CholCheck                       Had Cholesterol Check   \n",
       "BMI                                                27   \n",
       "Smoker                                   Not a Smoker   \n",
       "Stroke                           Didn't Have a Stroke   \n",
       "HeartDiseaseorAttack                 No Heart Disease   \n",
       "PhysActivity           No Physical Activity - 30 days   \n",
       "Fruits                    Eats at least 1 friut a day   \n",
       "Veggies               Eats at least 1 vegetable a day   \n",
       "HvyAlcoholConsump          Normal alcohol consumption   \n",
       "AnyHealthcare                       Medical Insurance   \n",
       "NoDocbcCost                    Visit doctor when sick   \n",
       "GenHlth                                             3   \n",
       "MentHlth                                            0   \n",
       "PhysHlth                                            0   \n",
       "DiffWalk                               Normal walking   \n",
       "Sex                                              Male   \n",
       "Age                                           55 - 59   \n",
       "Education                                 high school   \n",
       "Income                                    $15K - $20K   \n",
       "Diabetes_binary                                     0   \n",
       "Diabetes                                  No Diabetes   \n",
       "\n",
       "                                                    2  \n",
       "HighBP                          Normal Blood Pressure  \n",
       "HighChol                             High Cholesterol  \n",
       "CholCheck                       Had Cholesterol Check  \n",
       "BMI                                                35  \n",
       "Smoker                                         Smoker  \n",
       "Stroke                           Didn't Have a Stroke  \n",
       "HeartDiseaseorAttack                 No Heart Disease  \n",
       "PhysActivity               Active in the past 30 days  \n",
       "Fruits                    Eats at least 1 friut a day  \n",
       "Veggies               Eats at least 1 vegetable a day  \n",
       "HvyAlcoholConsump          Normal alcohol consumption  \n",
       "AnyHealthcare                       Medical Insurance  \n",
       "NoDocbcCost           No doctor visit becasue of cost  \n",
       "GenHlth                                             4  \n",
       "MentHlth                                           30  \n",
       "PhysHlth                                           30  \n",
       "DiffWalk                               Normal walking  \n",
       "Sex                                            Female  \n",
       "Age                                           50 - 54  \n",
       "Education                                some college  \n",
       "Income                                 less then $10K  \n",
       "Diabetes_binary                                     0  \n",
       "Diabetes                                  No Diabetes  "
      ]
     },
     "execution_count": 11,
     "metadata": {},
     "output_type": "execute_result"
    }
   ],
   "source": [
    "df_explore = dp.split_data(df, explore=True)\n",
    "df_explore.head(3).T"
   ]
  },
  {
   "cell_type": "code",
   "execution_count": 10,
   "metadata": {},
   "outputs": [
    {
     "name": "stdout",
     "output_type": "stream",
     "text": [
      "<class 'pandas.core.frame.DataFrame'>\n",
      "RangeIndex: 183579 entries, 0 to 183578\n",
      "Data columns (total 23 columns):\n",
      " #   Column                Non-Null Count   Dtype   \n",
      "---  ------                --------------   -----   \n",
      " 0   HighBP                183579 non-null  object  \n",
      " 1   HighChol              183579 non-null  object  \n",
      " 2   CholCheck             183579 non-null  object  \n",
      " 3   BMI                   183579 non-null  int64   \n",
      " 4   Smoker                183579 non-null  object  \n",
      " 5   Stroke                183579 non-null  object  \n",
      " 6   HeartDiseaseorAttack  183579 non-null  object  \n",
      " 7   PhysActivity          183579 non-null  object  \n",
      " 8   Fruits                183579 non-null  object  \n",
      " 9   Veggies               183579 non-null  object  \n",
      " 10  HvyAlcoholConsump     183579 non-null  object  \n",
      " 11  AnyHealthcare         183579 non-null  object  \n",
      " 12  NoDocbcCost           183579 non-null  object  \n",
      " 13  GenHlth               183579 non-null  category\n",
      " 14  MentHlth              183579 non-null  int64   \n",
      " 15  PhysHlth              183579 non-null  int64   \n",
      " 16  DiffWalk              183579 non-null  object  \n",
      " 17  Sex                   183579 non-null  object  \n",
      " 18  Age                   183579 non-null  category\n",
      " 19  Education             183579 non-null  category\n",
      " 20  Income                183579 non-null  category\n",
      " 21  Diabetes_binary       183579 non-null  int64   \n",
      " 22  Diabetes              183579 non-null  object  \n",
      "dtypes: category(4), int64(4), object(15)\n",
      "memory usage: 27.3+ MB\n"
     ]
    }
   ],
   "source": [
    "df_explore.info()"
   ]
  },
  {
   "cell_type": "markdown",
   "metadata": {},
   "source": [
    "Let's have a look on our target variable - Diabetes. What percentage of people represented in our data have diabetes?"
   ]
  },
  {
   "cell_type": "code",
   "execution_count": 15,
   "metadata": {},
   "outputs": [
    {
     "data": {
      "text/plain": [
       "Diabetes\n",
       "No Diabetes   0.847\n",
       "Diabetes      0.153\n",
       "Name: proportion, dtype: float64"
      ]
     },
     "execution_count": 15,
     "metadata": {},
     "output_type": "execute_result"
    }
   ],
   "source": [
    "df_explore.Diabetes.value_counts(normalize=True)"
   ]
  },
  {
   "cell_type": "markdown",
   "metadata": {},
   "source": [
    "- 84.7% of respondents don't have Diabetes\n",
    "- 15.3% of respondets have Diabetes condition."
   ]
  },
  {
   "cell_type": "code",
   "execution_count": 18,
   "metadata": {},
   "outputs": [
    {
     "data": {
      "image/png": "[encoded data removed]",
      "text/plain": [
       "<Figure size 500x500 with 1 Axes>"
      ]
     },
     "metadata": {
      "image/png": {
       "height": 426,
       "width": 470
      }
     },
     "output_type": "display_data"
    }
   ],
   "source": [
    "# visualize \n",
    "ex.diabetes_piechart(df_explore, 'Diabetes')"
   ]
  },
  {
   "cell_type": "markdown",
   "metadata": {},
   "source": [
    "Next step is to explore if BMI (body mass index) differs between healthy people and people with diabetes. As we know from the theory, overweight people tend to have higher chances of getting diabetes. We need to check if our data follows this trend. Normal BMI range is between 18.5 and 24.9. Everything below 18.5 is underweight, everything above 24.9 is overweight. First, let's make some data splits, to help us explore."
   ]
  },
  {
   "cell_type": "code",
   "execution_count": 19,
   "metadata": {},
   "outputs": [],
   "source": [
    "# create 2 data frames for ppl with diabetis and without\n",
    "healthy = df_explore.query('Diabetes_binary == 0')\n",
    "diabetes = df_explore.query('Diabetes_binary == 1')"
   ]
  },
  {
   "cell_type": "code",
   "execution_count": 22,
   "metadata": {},
   "outputs": [
    {
     "data": {
      "text/plain": [
       "(array(['No Diabetes'], dtype=object), array(['Diabetes'], dtype=object))"
      ]
     },
     "execution_count": 22,
     "metadata": {},
     "output_type": "execute_result"
    }
   ],
   "source": [
    "# check if the split is correct\n",
    "healthy.Diabetes.unique(), diabetes.Diabetes.unique()"
   ]
  },
  {
   "cell_type": "code",
   "execution_count": null,
   "metadata": {},
   "outputs": [],
   "source": []
  }
 ],
 "metadata": {
  "kernelspec": {
   "display_name": "ml-zoomcamp",
   "language": "python",
   "name": "python3"
  },
  "language_info": {
   "codemirror_mode": {
    "name": "ipython",
    "version": 3
   },
   "file_extension": ".py",
   "mimetype": "text/x-python",
   "name": "python",
   "nbconvert_exporter": "python",
   "pygments_lexer": "ipython3",
   "version": "3.9.18"
  }
 },
 "nbformat": 4,
 "nbformat_minor": 2
}
